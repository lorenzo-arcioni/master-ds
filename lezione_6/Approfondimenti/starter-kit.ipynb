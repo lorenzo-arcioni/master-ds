{
 "cells": [
  {
   "cell_type": "code",
   "execution_count": 1,
   "metadata": {},
   "outputs": [],
   "source": [
    "import pandas as pd\n",
    "from urllib.request import urlopen  \n",
    "import os.path as osp\n",
    "import os\n",
    "import logging\n",
    "import zipfile\n",
    "from glob import glob\n",
    "logging.getLogger().setLevel('INFO')"
   ]
  },
  {
   "cell_type": "markdown",
   "metadata": {},
   "source": [
    "## Helpers"
   ]
  },
  {
   "cell_type": "code",
   "execution_count": 2,
   "metadata": {},
   "outputs": [],
   "source": [
    "def download_file(url_str, path):\n",
    "    try:\n",
    "        url = urlopen(url_str)\n",
    "        output = open(path, 'wb')       \n",
    "        output.write(url.read())\n",
    "        output.close()\n",
    "    except ConnectionResetError:\n",
    "        download_file(url_str, path)\n",
    "    \n",
    "def extract_file(archive_path, target_dir):\n",
    "    zip_file = zipfile.ZipFile(archive_path, 'r')\n",
    "    zip_file.extractall(target_dir)\n",
    "    zip_file.close()"
   ]
  },
  {
   "cell_type": "markdown",
   "metadata": {},
   "source": [
    "## Download the dataset"
   ]
  },
  {
   "cell_type": "code",
   "execution_count": 3,
   "metadata": {},
   "outputs": [
    {
     "name": "stderr",
     "output_type": "stream",
     "text": [
      "/home/lorenzo/miniconda3/envs/datas/lib/python3.10/site-packages/openpyxl/worksheet/_reader.py:329: UserWarning: Unknown extension is not supported and will be removed\n",
      "  warn(msg)\n",
      "/home/lorenzo/miniconda3/envs/datas/lib/python3.10/site-packages/openpyxl/worksheet/_reader.py:329: UserWarning: Unknown extension is not supported and will be removed\n",
      "  warn(msg)\n",
      "/home/lorenzo/miniconda3/envs/datas/lib/python3.10/site-packages/openpyxl/worksheet/_reader.py:329: UserWarning: Unknown extension is not supported and will be removed\n",
      "  warn(msg)\n",
      "/home/lorenzo/miniconda3/envs/datas/lib/python3.10/site-packages/openpyxl/worksheet/_reader.py:329: UserWarning: Unknown extension is not supported and will be removed\n",
      "  warn(msg)\n",
      "/home/lorenzo/miniconda3/envs/datas/lib/python3.10/site-packages/openpyxl/worksheet/_reader.py:329: UserWarning: Unknown extension is not supported and will be removed\n",
      "  warn(msg)\n",
      "/home/lorenzo/miniconda3/envs/datas/lib/python3.10/site-packages/openpyxl/worksheet/_reader.py:329: UserWarning: Unknown extension is not supported and will be removed\n",
      "  warn(msg)\n",
      "/home/lorenzo/miniconda3/envs/datas/lib/python3.10/site-packages/openpyxl/worksheet/_reader.py:329: UserWarning: Unknown extension is not supported and will be removed\n",
      "  warn(msg)\n",
      "INFO:root:52298 matches ATP in df_atp\n",
      "INFO:root:29581 matches WTA in df_wta\n"
     ]
    }
   ],
   "source": [
    "BASE_URL = 'http://tennis-data.co.uk'\n",
    "DATA_DIR = \"tennis_data\"\n",
    "ATP_DIR = './{}/ATP'.format(DATA_DIR)\n",
    "WTA_DIR = './{}/WTA'.format(DATA_DIR)\n",
    "\n",
    "ATP_URLS = [BASE_URL + \"/%i/%i.zip\" % (i,i) for i in range(2000,2019)]\n",
    "WTA_URLS = [BASE_URL + \"/%iw/%i.zip\" % (i,i) for i in range(2007,2019)]\n",
    "'''\n",
    "os.makedirs(osp.join(ATP_DIR, 'archives'), exist_ok=True)\n",
    "os.makedirs(osp.join(WTA_DIR, 'archives'), exist_ok=True)\n",
    "\n",
    "for files, directory in ((ATP_URLS, ATP_DIR), (WTA_URLS, WTA_DIR)):\n",
    "    for dl_path in files:\n",
    "        logging.info(\"downloading & extracting file %s\", dl_path)\n",
    "        archive_path = osp.join(directory, 'archives', osp.basename(dl_path))\n",
    "        download_file(dl_path, archive_path)\n",
    "        extract_file(archive_path, directory)\n",
    "'''\n",
    "ATP_FILES = sorted(glob(\"%s/*.xls*\" % ATP_DIR))\n",
    "WTA_FILES = sorted(glob(\"%s/*.xls*\" % WTA_DIR))\n",
    "\n",
    "df_atp = pd.concat([pd.read_excel(f) for f in ATP_FILES], ignore_index=True)\n",
    "df_wta = pd.concat([pd.read_excel(f) for f in WTA_FILES], ignore_index=True)\n",
    "\n",
    "logging.info(\"%i matches ATP in df_atp\", df_atp.shape[0])\n",
    "logging.info(\"%i matches WTA in df_wta\", df_wta.shape[0])"
   ]
  },
  {
   "cell_type": "markdown",
   "metadata": {},
   "source": [
    "## Your work"
   ]
  },
  {
   "attachments": {},
   "cell_type": "markdown",
   "metadata": {},
   "source": [
    "### Questions's answers"
   ]
  },
  {
   "cell_type": "code",
   "execution_count": 10,
   "metadata": {},
   "outputs": [
    {
     "data": {
      "text/html": [
       "<div>\n",
       "<style scoped>\n",
       "    .dataframe tbody tr th:only-of-type {\n",
       "        vertical-align: middle;\n",
       "    }\n",
       "\n",
       "    .dataframe tbody tr th {\n",
       "        vertical-align: top;\n",
       "    }\n",
       "\n",
       "    .dataframe thead th {\n",
       "        text-align: right;\n",
       "    }\n",
       "</style>\n",
       "<table border=\"1\" class=\"dataframe\">\n",
       "  <thead>\n",
       "    <tr style=\"text-align: right;\">\n",
       "      <th></th>\n",
       "      <th>ATP</th>\n",
       "      <th>Location</th>\n",
       "      <th>Tournament</th>\n",
       "      <th>Date</th>\n",
       "      <th>Series</th>\n",
       "      <th>Court</th>\n",
       "      <th>Surface</th>\n",
       "      <th>Round</th>\n",
       "      <th>Best of</th>\n",
       "      <th>Winner</th>\n",
       "      <th>...</th>\n",
       "      <th>UBW</th>\n",
       "      <th>UBL</th>\n",
       "      <th>LBW</th>\n",
       "      <th>LBL</th>\n",
       "      <th>SJW</th>\n",
       "      <th>SJL</th>\n",
       "      <th>MaxW</th>\n",
       "      <th>MaxL</th>\n",
       "      <th>AvgW</th>\n",
       "      <th>AvgL</th>\n",
       "    </tr>\n",
       "  </thead>\n",
       "  <tbody>\n",
       "    <tr>\n",
       "      <th>0</th>\n",
       "      <td>1</td>\n",
       "      <td>Adelaide</td>\n",
       "      <td>Australian Hardcourt Championships</td>\n",
       "      <td>2000-01-03</td>\n",
       "      <td>International</td>\n",
       "      <td>Outdoor</td>\n",
       "      <td>Hard</td>\n",
       "      <td>1st Round</td>\n",
       "      <td>3</td>\n",
       "      <td>Dosedel S.</td>\n",
       "      <td>...</td>\n",
       "      <td>NaN</td>\n",
       "      <td>NaN</td>\n",
       "      <td>NaN</td>\n",
       "      <td>NaN</td>\n",
       "      <td>NaN</td>\n",
       "      <td>NaN</td>\n",
       "      <td>NaN</td>\n",
       "      <td>NaN</td>\n",
       "      <td>NaN</td>\n",
       "      <td>NaN</td>\n",
       "    </tr>\n",
       "    <tr>\n",
       "      <th>1</th>\n",
       "      <td>1</td>\n",
       "      <td>Adelaide</td>\n",
       "      <td>Australian Hardcourt Championships</td>\n",
       "      <td>2000-01-03</td>\n",
       "      <td>International</td>\n",
       "      <td>Outdoor</td>\n",
       "      <td>Hard</td>\n",
       "      <td>1st Round</td>\n",
       "      <td>3</td>\n",
       "      <td>Enqvist T.</td>\n",
       "      <td>...</td>\n",
       "      <td>NaN</td>\n",
       "      <td>NaN</td>\n",
       "      <td>NaN</td>\n",
       "      <td>NaN</td>\n",
       "      <td>NaN</td>\n",
       "      <td>NaN</td>\n",
       "      <td>NaN</td>\n",
       "      <td>NaN</td>\n",
       "      <td>NaN</td>\n",
       "      <td>NaN</td>\n",
       "    </tr>\n",
       "    <tr>\n",
       "      <th>2</th>\n",
       "      <td>1</td>\n",
       "      <td>Adelaide</td>\n",
       "      <td>Australian Hardcourt Championships</td>\n",
       "      <td>2000-01-03</td>\n",
       "      <td>International</td>\n",
       "      <td>Outdoor</td>\n",
       "      <td>Hard</td>\n",
       "      <td>1st Round</td>\n",
       "      <td>3</td>\n",
       "      <td>Escude N.</td>\n",
       "      <td>...</td>\n",
       "      <td>NaN</td>\n",
       "      <td>NaN</td>\n",
       "      <td>NaN</td>\n",
       "      <td>NaN</td>\n",
       "      <td>NaN</td>\n",
       "      <td>NaN</td>\n",
       "      <td>NaN</td>\n",
       "      <td>NaN</td>\n",
       "      <td>NaN</td>\n",
       "      <td>NaN</td>\n",
       "    </tr>\n",
       "    <tr>\n",
       "      <th>3</th>\n",
       "      <td>1</td>\n",
       "      <td>Adelaide</td>\n",
       "      <td>Australian Hardcourt Championships</td>\n",
       "      <td>2000-01-03</td>\n",
       "      <td>International</td>\n",
       "      <td>Outdoor</td>\n",
       "      <td>Hard</td>\n",
       "      <td>1st Round</td>\n",
       "      <td>3</td>\n",
       "      <td>Federer R.</td>\n",
       "      <td>...</td>\n",
       "      <td>NaN</td>\n",
       "      <td>NaN</td>\n",
       "      <td>NaN</td>\n",
       "      <td>NaN</td>\n",
       "      <td>NaN</td>\n",
       "      <td>NaN</td>\n",
       "      <td>NaN</td>\n",
       "      <td>NaN</td>\n",
       "      <td>NaN</td>\n",
       "      <td>NaN</td>\n",
       "    </tr>\n",
       "    <tr>\n",
       "      <th>4</th>\n",
       "      <td>1</td>\n",
       "      <td>Adelaide</td>\n",
       "      <td>Australian Hardcourt Championships</td>\n",
       "      <td>2000-01-03</td>\n",
       "      <td>International</td>\n",
       "      <td>Outdoor</td>\n",
       "      <td>Hard</td>\n",
       "      <td>1st Round</td>\n",
       "      <td>3</td>\n",
       "      <td>Fromberg R.</td>\n",
       "      <td>...</td>\n",
       "      <td>NaN</td>\n",
       "      <td>NaN</td>\n",
       "      <td>NaN</td>\n",
       "      <td>NaN</td>\n",
       "      <td>NaN</td>\n",
       "      <td>NaN</td>\n",
       "      <td>NaN</td>\n",
       "      <td>NaN</td>\n",
       "      <td>NaN</td>\n",
       "      <td>NaN</td>\n",
       "    </tr>\n",
       "  </tbody>\n",
       "</table>\n",
       "<p>5 rows × 54 columns</p>\n",
       "</div>"
      ],
      "text/plain": [
       "   ATP  Location                          Tournament       Date  \\\n",
       "0    1  Adelaide  Australian Hardcourt Championships 2000-01-03   \n",
       "1    1  Adelaide  Australian Hardcourt Championships 2000-01-03   \n",
       "2    1  Adelaide  Australian Hardcourt Championships 2000-01-03   \n",
       "3    1  Adelaide  Australian Hardcourt Championships 2000-01-03   \n",
       "4    1  Adelaide  Australian Hardcourt Championships 2000-01-03   \n",
       "\n",
       "          Series    Court Surface      Round  Best of       Winner  ... UBW  \\\n",
       "0  International  Outdoor    Hard  1st Round        3   Dosedel S.  ... NaN   \n",
       "1  International  Outdoor    Hard  1st Round        3   Enqvist T.  ... NaN   \n",
       "2  International  Outdoor    Hard  1st Round        3    Escude N.  ... NaN   \n",
       "3  International  Outdoor    Hard  1st Round        3   Federer R.  ... NaN   \n",
       "4  International  Outdoor    Hard  1st Round        3  Fromberg R.  ... NaN   \n",
       "\n",
       "  UBL LBW  LBL  SJW SJL MaxW MaxL AvgW  AvgL  \n",
       "0 NaN NaN  NaN  NaN NaN  NaN  NaN  NaN   NaN  \n",
       "1 NaN NaN  NaN  NaN NaN  NaN  NaN  NaN   NaN  \n",
       "2 NaN NaN  NaN  NaN NaN  NaN  NaN  NaN   NaN  \n",
       "3 NaN NaN  NaN  NaN NaN  NaN  NaN  NaN   NaN  \n",
       "4 NaN NaN  NaN  NaN NaN  NaN  NaN  NaN   NaN  \n",
       "\n",
       "[5 rows x 54 columns]"
      ]
     },
     "execution_count": 10,
     "metadata": {},
     "output_type": "execute_result"
    }
   ],
   "source": [
    "df_atp.head()"
   ]
  },
  {
   "attachments": {},
   "cell_type": "markdown",
   "metadata": {},
   "source": [
    "1) Answer"
   ]
  },
  {
   "cell_type": "code",
   "execution_count": 8,
   "metadata": {},
   "outputs": [
    {
     "data": {
      "text/plain": [
       "Federer R.     1121\n",
       "Nadal R.        891\n",
       "Djokovic N.     802\n",
       "Name: Winner, dtype: int64"
      ]
     },
     "execution_count": 8,
     "metadata": {},
     "output_type": "execute_result"
    }
   ],
   "source": [
    "df_atp['Winner'].value_counts()[:3]"
   ]
  },
  {
   "attachments": {},
   "cell_type": "markdown",
   "metadata": {},
   "source": [
    "2) Answer"
   ]
  },
  {
   "cell_type": "code",
   "execution_count": 14,
   "metadata": {},
   "outputs": [
    {
     "data": {
      "text/plain": [
       "1121"
      ]
     },
     "execution_count": 14,
     "metadata": {},
     "output_type": "execute_result"
    }
   ],
   "source": [
    "df_atp[df_atp.Winner == 'Federer R.']['Winner'].count()"
   ]
  },
  {
   "attachments": {},
   "cell_type": "markdown",
   "metadata": {},
   "source": [
    "3) Answer"
   ]
  },
  {
   "cell_type": "code",
   "execution_count": 23,
   "metadata": {},
   "outputs": [
    {
     "data": {
      "text/plain": [
       "74"
      ]
     },
     "execution_count": 23,
     "metadata": {},
     "output_type": "execute_result"
    }
   ],
   "source": [
    "df_atp[(df_atp.Winner == 'Federer R.') & ((df_atp.Date.dt.year == 2016) | (df_atp.Date.dt.year == 2017))]['Winner'].count()"
   ]
  },
  {
   "attachments": {},
   "cell_type": "markdown",
   "metadata": {},
   "source": [
    "4) Answer"
   ]
  },
  {
   "cell_type": "code",
   "execution_count": 17,
   "metadata": {},
   "outputs": [],
   "source": [
    "def my_func(df):\n",
    "\n",
    "    s = []\n",
    "\n",
    "    tmp = {}\n",
    "\n",
    "    for x in list(set(df.Winner).union(set(df.Loser))):\n",
    "        tmp[x] = [0, 0]\n",
    "\n",
    "\n",
    "    for idx, win, los in df[['Winner', 'Loser']].itertuples():    \n",
    "        try:\n",
    "            s.append(tmp[win][1] / tmp[win][0])\n",
    "        except:\n",
    "            s.append('NotDefined')\n",
    "        \n",
    "        tmp[win][0] += 1\n",
    "        tmp[win][1] += 1\n",
    "        tmp[los][0] += 1\n",
    "    \n",
    "    \n",
    "    return s"
   ]
  },
  {
   "cell_type": "code",
   "execution_count": 18,
   "metadata": {},
   "outputs": [],
   "source": [
    "df_atp['win_perc'] = my_func(df_atp[['Winner', 'Loser']])"
   ]
  },
  {
   "cell_type": "code",
   "execution_count": 19,
   "metadata": {},
   "outputs": [
    {
     "data": {
      "text/plain": [
       "0        NotDefined\n",
       "1        NotDefined\n",
       "2        NotDefined\n",
       "3        NotDefined\n",
       "4        NotDefined\n",
       "            ...    \n",
       "52293      0.664032\n",
       "52294      0.829876\n",
       "52295      0.665354\n",
       "52296      0.830052\n",
       "52297      0.666667\n",
       "Name: win_perc, Length: 52298, dtype: object"
      ]
     },
     "execution_count": 19,
     "metadata": {},
     "output_type": "execute_result"
    }
   ],
   "source": [
    "df_atp['win_perc']"
   ]
  }
 ],
 "metadata": {
  "kernelspec": {
   "display_name": "Python 3",
   "language": "python",
   "name": "python3"
  },
  "language_info": {
   "codemirror_mode": {
    "name": "ipython",
    "version": 3
   },
   "file_extension": ".py",
   "mimetype": "text/x-python",
   "name": "python",
   "nbconvert_exporter": "python",
   "pygments_lexer": "ipython3",
   "version": "3.10.11"
  }
 },
 "nbformat": 4,
 "nbformat_minor": 2
}
