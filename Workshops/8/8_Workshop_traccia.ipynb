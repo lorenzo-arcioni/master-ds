{
 "cells": [
  {
   "attachments": {},
   "cell_type": "markdown",
   "metadata": {
    "toc": true
   },
   "source": [
    "<h1>Table of Contents<span class=\"tocSkip\"></span></h1>\n",
    "<div class=\"toc\"><ul class=\"toc-item\"></ul></div>"
   ]
  },
  {
   "attachments": {},
   "cell_type": "markdown",
   "metadata": {},
   "source": [
    "**Analisi di serie temporali**:\n",
    "\n",
    "Per aiutarti negli esercizi che seguiranno, ricorda:\n",
    "\n",
    "**Stagionalità**: tendenza di una variabile a ripetere periodicamente il proprio comportamento si chiama stagionalità.\n",
    "\n",
    "La stagionalità (annuale) è semplice con l'energia solare: ogni anno osserviamo lo stesso comportamento, dovuto alla disponibilità di luce solare.\n",
    "\n",
    "La stagionalità non è necessariamente meterologica: pensate ai saldi durante le festività natalizie.\n",
    "\n",
    "--------------------------------------------------------------------------------------------------------------------------------------------------------------------------------------------------------\n",
    "\n",
    "Utilizzando il dataset denominato *OPSD_Germany_all*, svolgi i seguenti esercizi:\n",
    "\n",
    "- Esercizio 1\n",
    "\n",
    "    Usa gli strumenti che abbiamo visto finora per tracciare il consumo di energia elettrica.\n",
    "\n",
    "    Che tipo di **stagionalità** possiamo osservare su questa variabile? Come può essere interpretato?\n",
    "    \n",
    "\n",
    "- Esercizio 2\n",
    "\n",
    "    Analizza la stagionalità settimanale del consumo di energia elettrica utilizzando le funzioni groupby (Pandas) ed eventualmente aiutati creando boxplot con Seaborn.\n",
    "    \n",
    "\n",
    "- Esercizio 3\n",
    "\n",
    "    Confronta (all'interno di un singolo grafico) la serie mensile (di un anno a scelta) di:\n",
    "    - consumo di energia elettrica \n",
    "    - produzione di energia rinnovabile (solare, eolica e la somma delle due).\n",
    "   \n",
    "    Tracciare la serie annuale del rapporto tra\n",
    "    - produzione di energia rinnovabile\n",
    "    - consumo di energia elettrica\n",
    "    \n",
    "\n",
    "- Esercizio 4 [facoltativo]\n",
    "\n",
    "    Il resampling e il rolling nelle serie temporali sono due modi per implementare medie incrementali nel tempo. \n",
    "\n",
    "Traccia la produzione settimanale di energia solare durante il 2017/01-07 utilizzando resample e rolling. Confronta i risultati grafici."
   ]
  },
  {
   "cell_type": "code",
   "execution_count": null,
   "metadata": {},
   "outputs": [],
   "source": []
  }
 ],
 "metadata": {
  "kernelspec": {
   "display_name": "Python 3",
   "language": "python",
   "name": "python3"
  },
  "language_info": {
   "codemirror_mode": {
    "name": "ipython",
    "version": 3
   },
   "file_extension": ".py",
   "mimetype": "text/x-python",
   "name": "python",
   "nbconvert_exporter": "python",
   "pygments_lexer": "ipython3",
   "version": "3.8.3"
  },
  "toc": {
   "base_numbering": 1,
   "nav_menu": {},
   "number_sections": true,
   "sideBar": true,
   "skip_h1_title": false,
   "title_cell": "Table of Contents",
   "title_sidebar": "Contents",
   "toc_cell": true,
   "toc_position": {
    "height": "calc(100% - 180px)",
    "left": "10px",
    "top": "150px",
    "width": "165px"
   },
   "toc_section_display": true,
   "toc_window_display": true
  }
 },
 "nbformat": 4,
 "nbformat_minor": 4
}
