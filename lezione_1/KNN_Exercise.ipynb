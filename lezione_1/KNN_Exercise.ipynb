{
 "cells": [
  {
   "cell_type": "markdown",
   "metadata": {},
   "source": [
    "# Esercizio implementazione funzioni di predizione KNN"
   ]
  },
  {
   "cell_type": "markdown",
   "metadata": {},
   "source": [
    "Importo il dataset e divido i dati di train e i dati di test"
   ]
  },
  {
   "cell_type": "code",
   "execution_count": 1,
   "metadata": {},
   "outputs": [],
   "source": [
    "from sklearn import datasets\n",
    "\n",
    "data = datasets.load_iris()"
   ]
  },
  {
   "cell_type": "code",
   "execution_count": 2,
   "metadata": {},
   "outputs": [
    {
     "name": "stdout",
     "output_type": "stream",
     "text": [
      "X shape: (150, 4) y shape: (150,)\n"
     ]
    }
   ],
   "source": [
    "\n",
    "X = data['data']\n",
    "y = data['target']\n",
    "\n",
    "print('X shape:', X.shape, 'y shape:', y.shape)"
   ]
  },
  {
   "cell_type": "markdown",
   "metadata": {},
   "source": [
    "Faccio uno shuffle del dataset per omogeneizzare i dati"
   ]
  },
  {
   "cell_type": "code",
   "execution_count": 66,
   "metadata": {},
   "outputs": [],
   "source": [
    "import numpy as np\n",
    "from numpy.random import default_rng\n",
    "\n",
    "rnd = default_rng(seed = 12)"
   ]
  },
  {
   "cell_type": "code",
   "execution_count": 67,
   "metadata": {},
   "outputs": [],
   "source": [
    "#Genero una permutazione da 0 a 150 che vado a mischiare\n",
    "permutation = rnd.permutation(len(y))\n",
    "\n",
    "#Aggiorno il dataset\n",
    "X = X[permutation]\n",
    "y = y[permutation]"
   ]
  },
  {
   "cell_type": "code",
   "execution_count": 68,
   "metadata": {},
   "outputs": [],
   "source": [
    "#Separo train e test\n",
    "n_test = int(0.1 * X.shape[0])\n",
    "n_train = X.shape[0] - n_test\n",
    "X_train, y_train = X[0:n_train], y[0:n_train]\n",
    "X_test, y_test = X[n_train:], y[n_train:]"
   ]
  },
  {
   "cell_type": "markdown",
   "metadata": {},
   "source": [
    "Calcolo il vettore delle distanze dal punto x_new ad ogni punto della matrice di train (X_train)"
   ]
  },
  {
   "cell_type": "code",
   "execution_count": 69,
   "metadata": {},
   "outputs": [],
   "source": [
    "x_new = X_train[13]"
   ]
  },
  {
   "cell_type": "code",
   "execution_count": 70,
   "metadata": {},
   "outputs": [],
   "source": [
    "distanza = []\n",
    "\n",
    "for x_tr_i in X_train:\n",
    "    d = np.sqrt(np.sum((x_new-x_tr_i)**2))\n",
    "    distanza.append(d)"
   ]
  },
  {
   "cell_type": "markdown",
   "metadata": {},
   "source": [
    "Ora trovo i K punti più vicini"
   ]
  },
  {
   "cell_type": "code",
   "execution_count": 71,
   "metadata": {},
   "outputs": [],
   "source": [
    "k=4\n",
    "k_neighbors = np.argsort(distanza)[:k]"
   ]
  },
  {
   "cell_type": "code",
   "execution_count": 72,
   "metadata": {},
   "outputs": [
    {
     "data": {
      "text/plain": [
       "array([13,  7, 99, 94], dtype=int64)"
      ]
     },
     "execution_count": 72,
     "metadata": {},
     "output_type": "execute_result"
    }
   ],
   "source": [
    "k_neighbors"
   ]
  },
  {
   "cell_type": "markdown",
   "metadata": {},
   "source": [
    "Faccio la predizione!"
   ]
  },
  {
   "cell_type": "code",
   "execution_count": 73,
   "metadata": {},
   "outputs": [],
   "source": [
    "y_new_pred = np.argmax(np.bincount(y_train[k_neighbors], minlength = 3))"
   ]
  },
  {
   "cell_type": "code",
   "execution_count": 74,
   "metadata": {},
   "outputs": [
    {
     "data": {
      "text/plain": [
       "2"
      ]
     },
     "execution_count": 74,
     "metadata": {},
     "output_type": "execute_result"
    }
   ],
   "source": [
    "y_new_pred"
   ]
  },
  {
   "cell_type": "markdown",
   "metadata": {},
   "source": [
    "Ora definisco le funzioni esercizio"
   ]
  },
  {
   "cell_type": "code",
   "execution_count": 75,
   "metadata": {},
   "outputs": [],
   "source": [
    "def predict_single(x_test, k, X_train, y_train):\n",
    "    distanze = []\n",
    "\n",
    "    for i in range(len(X_train)):\n",
    "        d = np.sqrt(np.sum((X_train[i]-x_test)**2))\n",
    "        distanze.append(d)\n",
    "    \n",
    "    #Trovo i punti piu vicini\n",
    "    k_n = np.argsort(distanze)[:k]\n",
    "\n",
    "    #Faccio la predizione\n",
    "    y_pred = np.argmax(np.bincount(y_train[k_n], minlength=3))\n",
    "\n",
    "    return y_pred\n",
    "    \n",
    "def knn_predict(X_test, k, X_train, y_train):\n",
    "\n",
    "    y_predicted = []\n",
    "\n",
    "    for x_test in X_test:\n",
    "        y_predicted.append(predict_single(x_test, k, X_train, y_train))\n",
    "    \n",
    "    return y_predicted"
   ]
  },
  {
   "cell_type": "code",
   "execution_count": 76,
   "metadata": {},
   "outputs": [
    {
     "data": {
      "text/plain": [
       "array([ True,  True,  True,  True,  True, False,  True,  True,  True,\n",
       "        True,  True,  True,  True,  True,  True])"
      ]
     },
     "execution_count": 76,
     "metadata": {},
     "output_type": "execute_result"
    }
   ],
   "source": [
    "predicted = knn_predict(X_test, 4, X_train, y_train)\n",
    "predicted == y_test"
   ]
  },
  {
   "cell_type": "code",
   "execution_count": 34,
   "metadata": {},
   "outputs": [
    {
     "data": {
      "text/plain": [
       "array([1, 0, 2, 2, 2, 1, 2, 0, 2, 2, 1, 1, 1, 2, 0, 1, 1, 0, 1, 1, 0, 1,\n",
       "       0, 1, 2, 1, 1, 0, 0, 0])"
      ]
     },
     "execution_count": 34,
     "metadata": {},
     "output_type": "execute_result"
    }
   ],
   "source": [
    "y_test"
   ]
  },
  {
   "cell_type": "code",
   "execution_count": 42,
   "metadata": {},
   "outputs": [
    {
     "data": {
      "text/plain": [
       "array([1, 0, 2, 2, 2, 1, 2, 0, 2, 2, 1, 1, 1, 2, 0, 1, 1, 0, 1, 1, 0, 1,\n",
       "       0, 1, 2, 1, 1, 0, 0, 0])"
      ]
     },
     "execution_count": 42,
     "metadata": {},
     "output_type": "execute_result"
    }
   ],
   "source": [
    "y_test"
   ]
  },
  {
   "cell_type": "code",
   "execution_count": null,
   "metadata": {},
   "outputs": [],
   "source": []
  }
 ],
 "metadata": {
  "kernelspec": {
   "display_name": "Python 3 (ipykernel)",
   "language": "python",
   "name": "python3"
  },
  "language_info": {
   "codemirror_mode": {
    "name": "ipython",
    "version": 3
   },
   "file_extension": ".py",
   "mimetype": "text/x-python",
   "name": "python",
   "nbconvert_exporter": "python",
   "pygments_lexer": "ipython3",
   "version": "3.10.8"
  },
  "vscode": {
   "interpreter": {
    "hash": "4b468087361a8015ed170d92aa7f55857653c093f8785e4a6695b972d925ae2d"
   }
  }
 },
 "nbformat": 4,
 "nbformat_minor": 2
}
