{
 "cells": [
  {
   "attachments": {},
   "cell_type": "markdown",
   "metadata": {
    "toc": true
   },
   "source": [
    "<h1>Table of Contents<span class=\"tocSkip\"></span></h1>\n",
    "<div class=\"toc\"><ul class=\"toc-item\"></ul></div>"
   ]
  },
  {
   "attachments": {},
   "cell_type": "markdown",
   "metadata": {},
   "source": [
    "**Analisi di serie temporali:**\n",
    "\n",
    "Insieme al consumo di energia elettrica, il set di dati **OPSD_Germany_all** riporta la produzione giornaliera di energia solare ed eolica.\n",
    "\n",
    "Svolgi i seguenti punti nello stesso notebook:\n",
    "\n",
    "**1** Caricare il set di dati come frame di dati, utilizzando Data come indice temporale. La produzione di energia solare non è disponibile fino al 31 dicembre 2011; dal dataframe selezionare solo i record successivi a questa data.\n",
    "\n",
    "**2.** Creare una colonna Rinnovabili come somma di energia solare ed eolica.\n",
    "\n",
    "**3.** Calcolare il rapporto tra \n",
    "\n",
    "    a) la produzione rinnovabile totale di settembre 2014 e\n",
    "    \n",
    "    b) il consumo elettrico totale dello stesso mese.\n",
    "    \n",
    "\n",
    "**4.** Utilizzando le proprietà di indicizzazione di Date (hint: index.day_name()), creare la colonna 'Weekday' contenente, per ogni record, il giorno della settimana in cui è stato osservato (lunedì, martedì,...).\n",
    "\n",
    "**5.** Creare la serie sunday_wind contenente (solo) la produzione eolica della domenica.\n",
    "\n",
    "**6.** Calcolare la produzione eolica media domenicale tra gennaio e marzo 2017 (incluso)"
   ]
  },
  {
   "attachments": {},
   "cell_type": "markdown",
   "metadata": {},
   "source": [
    "EXTRA I: Ottenere un forecast per i successivi 5 anni delle colonne di energia Solare, Eolica e Consumo dati utilizzando:\n",
    "- la media globale del dato\n",
    "- la media delle ultime N osservazioni (N a scelta)\n",
    " \n",
    "Graficare le produzioni di energia Solare, Eolica, il consumo e relativi forecast.\n",
    "\n",
    "EXTRA II: Utilizzare per il forecast un terzo algoritmo a scelta."
   ]
  }
 ],
 "metadata": {
  "kernelspec": {
   "display_name": "Python 3",
   "language": "python",
   "name": "python3"
  },
  "language_info": {
   "codemirror_mode": {
    "name": "ipython",
    "version": 3
   },
   "file_extension": ".py",
   "mimetype": "text/x-python",
   "name": "python",
   "nbconvert_exporter": "python",
   "pygments_lexer": "ipython3",
   "version": "3.8.3"
  },
  "toc": {
   "base_numbering": 1,
   "nav_menu": {},
   "number_sections": true,
   "sideBar": true,
   "skip_h1_title": false,
   "title_cell": "Table of Contents",
   "title_sidebar": "Contents",
   "toc_cell": true,
   "toc_position": {
    "height": "calc(100% - 180px)",
    "left": "10px",
    "top": "150px",
    "width": "165px"
   },
   "toc_section_display": true,
   "toc_window_display": true
  }
 },
 "nbformat": 4,
 "nbformat_minor": 4
}
