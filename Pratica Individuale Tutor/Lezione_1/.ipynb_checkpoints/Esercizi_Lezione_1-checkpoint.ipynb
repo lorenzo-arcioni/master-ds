{
 "cells": [
  {
   "cell_type": "markdown",
   "metadata": {
    "id": "DYoJoVmh8DvY",
    "toc": true
   },
   "source": [
    "<h1>Table of Contents<span class=\"tocSkip\"></span></h1>\n",
    "<div class=\"toc\"><ul class=\"toc-item\"><li><span><a href=\"#Homeworks---Prima-lezione\" data-toc-modified-id=\"Homeworks---Prima-lezione-1\"><span class=\"toc-item-num\">1&nbsp;&nbsp;</span>Homeworks - Prima lezione</a></span><ul class=\"toc-item\"><li><span><a href=\"#Una-variante-di-k-NN:--RadiusNeighbors-(RN)\" data-toc-modified-id=\"Una-variante-di-k-NN:--RadiusNeighbors-(RN)-1.1\"><span class=\"toc-item-num\">1.1&nbsp;&nbsp;</span>Una variante di k-NN:  RadiusNeighbors (RN)</a></span><ul class=\"toc-item\"><li><span><a href=\"#Domanda-1\" data-toc-modified-id=\"Domanda-1-1.1.1\"><span class=\"toc-item-num\">1.1.1&nbsp;&nbsp;</span>Domanda 1</a></span></li><li><span><a href=\"#Domanda-2\" data-toc-modified-id=\"Domanda-2-1.1.2\"><span class=\"toc-item-num\">1.1.2&nbsp;&nbsp;</span>Domanda 2</a></span></li><li><span><a href=\"#Esercizio-1\" data-toc-modified-id=\"Esercizio-1-1.1.3\"><span class=\"toc-item-num\">1.1.3&nbsp;&nbsp;</span>Esercizio 1</a></span></li></ul></li></ul></li></ul></div>"
   ]
  },
  {
   "cell_type": "markdown",
   "metadata": {
    "id": "vCvPd2yT8Dvd"
   },
   "source": [
    "# Homeworks - Prima lezione"
   ]
  },
  {
   "cell_type": "markdown",
   "metadata": {
    "id": "YO7FR2Al8Dve"
   },
   "source": [
    "## Una variante di k-NN:  RadiusNeighbors (RN)"
   ]
  },
  {
   "cell_type": "markdown",
   "metadata": {
    "id": "6R1z2PpQ8Dvf"
   },
   "source": [
    "Invece di calcolare per ogni punto di test i k esempi del train più vicini possiamo usare come vicinato **tutti i punti** che sono a una determinata **distanza r** dal punto.  \n",
    "\n",
    "*(scaricare le due immagini in allegato alla cartella e posizionarle nello stesso percorso del notebook)*\n",
    "\n",
    "![title](Figura_1.png)\n",
    "\n",
    "I vicini **non** sono più un **numero fissato** come in k-NN ma dipendono dalla **densità** intorno al punto di test.\n",
    "\n",
    "![title](Figura_2.png)\n",
    "\n",
    "### Domanda 1\n",
    "Data una distanza **r**, esiste un valore di **k** per cui tutti i possibili vicinati di **k-NN** coincidono con i vicinati di **RN**? Se sì quale?\n",
    "\n",
    "\n",
    "### Domanda 2\n",
    "Quando può essere conveniente usare **RadiusNeighbors** invece di **KNN**?\n"
   ]
  },
  {
   "cell_type": "markdown",
   "metadata": {
    "id": "k5Sg0z-t8Dvg"
   },
   "source": [
    "### Esercizio 1\n",
    "- implementare Radius Neighbors\n",
    "\n",
    "Suggerimento: che parti di KNN devo modificare?\n",
    "\n",
    "**Scrivi qui sotto nella prossima cella il codice corrispondente.**"
   ]
  }
 ],
 "metadata": {
  "colab": {
   "provenance": []
  },
  "kernelspec": {
   "display_name": "Python 3",
   "language": "python",
   "name": "python3"
  },
  "language_info": {
   "codemirror_mode": {
    "name": "ipython",
    "version": 3
   },
   "file_extension": ".py",
   "mimetype": "text/x-python",
   "name": "python",
   "nbconvert_exporter": "python",
   "pygments_lexer": "ipython3",
   "version": "3.8.5"
  },
  "toc": {
   "base_numbering": 1,
   "nav_menu": {},
   "number_sections": true,
   "sideBar": true,
   "skip_h1_title": false,
   "title_cell": "Table of Contents",
   "title_sidebar": "Contents",
   "toc_cell": true,
   "toc_position": {
    "height": "calc(100% - 180px)",
    "left": "10px",
    "top": "150px",
    "width": "165px"
   },
   "toc_section_display": true,
   "toc_window_display": true
  }
 },
 "nbformat": 4,
 "nbformat_minor": 1
}
