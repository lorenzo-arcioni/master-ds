{
 "cells": [
  {
   "cell_type": "markdown",
   "metadata": {
    "id": "eggSp6OXJKQF",
    "toc": true
   },
   "source": [
    "<h1>Table of Contents<span class=\"tocSkip\"></span></h1>\n",
    "<div class=\"toc\"><ul class=\"toc-item\"><li><span><a href=\"#Lezione-1---Homeworks\" data-toc-modified-id=\"Lezione-1---Homeworks-1\"><span class=\"toc-item-num\">1&nbsp;&nbsp;</span>Lezione 1 - Homeworks</a></span><ul class=\"toc-item\"><li><span><a href=\"#Letture\" data-toc-modified-id=\"Letture-1.1\"><span class=\"toc-item-num\">1.1&nbsp;&nbsp;</span>Letture</a></span></li><li><span><a href=\"#Una-variante-di-k-NN:--RadiusNeighbors-(RN)\" data-toc-modified-id=\"Una-variante-di-k-NN:--RadiusNeighbors-(RN)-1.2\"><span class=\"toc-item-num\">1.2&nbsp;&nbsp;</span>Una variante di k-NN:  RadiusNeighbors (RN)</a></span><ul class=\"toc-item\"><li><span><a href=\"#Domanda-1\" data-toc-modified-id=\"Domanda-1-1.2.1\"><span class=\"toc-item-num\">1.2.1&nbsp;&nbsp;</span>Domanda 1</a></span></li><li><span><a href=\"#Domanda-2\" data-toc-modified-id=\"Domanda-2-1.2.2\"><span class=\"toc-item-num\">1.2.2&nbsp;&nbsp;</span>Domanda 2</a></span></li><li><span><a href=\"#Esercizio-1\" data-toc-modified-id=\"Esercizio-1-1.2.3\"><span class=\"toc-item-num\">1.2.3&nbsp;&nbsp;</span>Esercizio 1</a></span></li></ul></li></ul></li><li><span><a href=\"#Soluzioni\" data-toc-modified-id=\"Soluzioni-2\"><span class=\"toc-item-num\">2&nbsp;&nbsp;</span>Soluzioni</a></span><ul class=\"toc-item\"><li><ul class=\"toc-item\"><li><span><a href=\"#Domanda-1\" data-toc-modified-id=\"Domanda-1-2.0.1\"><span class=\"toc-item-num\">2.0.1&nbsp;&nbsp;</span>Domanda 1</a></span></li><li><span><a href=\"#Domanda-2\" data-toc-modified-id=\"Domanda-2-2.0.2\"><span class=\"toc-item-num\">2.0.2&nbsp;&nbsp;</span>Domanda 2</a></span></li><li><span><a href=\"#Esercizio-1\" data-toc-modified-id=\"Esercizio-1-2.0.3\"><span class=\"toc-item-num\">2.0.3&nbsp;&nbsp;</span>Esercizio 1</a></span></li></ul></li></ul></li></ul></div>"
   ]
  },
  {
   "cell_type": "markdown",
   "metadata": {
    "id": "Ry0-iHGSJKQP"
   },
   "source": [
    "# Lezione 1 - Homeworks"
   ]
  },
  {
   "cell_type": "markdown",
   "metadata": {
    "id": "VyJ6AzzcJKQQ"
   },
   "source": [
    "## Letture\n",
    "\n",
    "- [guida di KNN su sklearn](https://scikit-learn.org/stable/modules/neighbors.html#classification) \n",
    "**per chi è arrugginito con la matematica**:\n",
    "- [vettori](https://en.wikipedia.org/wiki/Cartesian_coordinate_system)\n",
    "- [distanza euclidea](https://en.wikipedia.org/wiki/Euclidean_distance)\n",
    "- [media](https://simple.wikipedia.org/wiki/Mean)\n",
    "- [deviazione standard](https://simple.wikipedia.org/wiki/Standard_deviation)"
   ]
  },
  {
   "cell_type": "markdown",
   "metadata": {
    "id": "qlofMmI6JKQS"
   },
   "source": [
    "## Una variante di k-NN:  RadiusNeighbors (RN)"
   ]
  },
  {
   "cell_type": "markdown",
   "metadata": {
    "id": "4_9eQJ33JKQT"
   },
   "source": [
    "Invece di calcolare per ogni punto di test i k esempi del train più vicini possiamo usare come vicinato **tutti i punti** che sono a una determinata **distanza r** dal punto.  \n",
    "\n",
    "\n",
    "<figure>\n",
    "<img src=\"1_data/frnns.svg\" alt=\"Radius neighbors\" style=\"width: 400px;\"/>\n",
    "    <figcaption>Figura 1: Il vicinato (in arancione) per un punto di test (nero). In 2D un vicinato calcolato con la distanza euclidea è una \"palla\".</figcaption>\n",
    "</figure>\n",
    "\n",
    "I vicini **non** sono più un **numero fissato** come in k-NN ma dipendono dalla **densità** intorno al punto di test.\n",
    "\n",
    "<figure>\n",
    "<img src=\"1_data/frnns2.svg\" alt=\"Radius neighbors\" style=\"width: 400px;\"/>\n",
    "    <figcaption>Figura 2: Due vicinati (con lo stesso valore di r) con numero di vicini diversi.</figcaption>\n",
    "</figure>\n",
    "\n",
    "### Domanda 1\n",
    "Data una distanza **r**, esiste un valore di **k** per cui tutti i possibili vicinati di **k-NN** coincidono con i vicinati di **RN**? Se sì quale?\n",
    "\n",
    "\n",
    "### Domanda 2\n",
    "Quando può essere conveniente usare **RadiusNeighbors** invece di **KNN**?\n"
   ]
  },
  {
   "cell_type": "markdown",
   "metadata": {
    "id": "b5mmZIcrJKQV"
   },
   "source": [
    "### Esercizio 1\n",
    "- implementare Radius Neighbors\n",
    "- plottare l'accuratezza di train e test al variare di k per RadiusNeighbors\n",
    "\n",
    "Suggerimento: che parti di KNN devo modificare?\n"
   ]
  },
  {
   "cell_type": "markdown",
   "metadata": {
    "id": "zdmpmGvPJKQX"
   },
   "source": [
    "# Soluzioni\n",
    "\n",
    "### Domanda 1\n",
    "No, in generale non esiste un valore di **k** per cui i tutti i vicinati di RN corrispondono a quelli di KNN.\n",
    "\n",
    "###  Domanda 2\n",
    "Quando i punti (esempi del dataset) non sono distribuiti in modo omogeneo nello spazio.\n",
    "\n",
    "### Esercizio 1 \n",
    "Di seguito una implementazione di RN con pesatura e senza (parametro weighted)"
   ]
  },
  {
   "cell_type": "code",
   "execution_count": null,
   "metadata": {
    "id": "cJSVo6IaJKQZ"
   },
   "outputs": [],
   "source": [
    "def rn_predict_single(x_new, radius, X_train, y_train, weighted):\n",
    "    # weighted è un parametro boolean che mi dice se fare la versione weighted o no\n",
    "\n",
    "    distances = []\n",
    "    for x_tr_i in X_train:\n",
    "\n",
    "        d = np.sqrt(np.sum((x_new-x_tr_i)**2))\n",
    "        distances.append(d)\n",
    "        \n",
    "    # converto la lista in numpy array. Mi serve dopo per fare operazioni di indicizzazione\n",
    "    # di numpy\n",
    "    distances = np.array(distances)\n",
    "    \n",
    "    # questo era quello che facevamo con knn\n",
    "    # k_neighbors = np.argsort(distances)[:k]\n",
    "    # NB: k_neighbors è una maschera di indici (interi)\n",
    "    \n",
    "    # questa è una maschera binaria che indica quali punti stanno dentro \n",
    "    # una palla di raggio 'radius'\n",
    "    #inside_ball = distances <= radius\n",
    "    inside_ball = distances < radius\n",
    "    \n",
    "    # caso degenere in cui il vicinato è vuoto. Rispondo 0 per convenzione.\n",
    "    if np.sum(inside_ball) == 0: \n",
    "        y_new_pred = 0\n",
    "    else:\n",
    "        if weighted:\n",
    "            # calcolo i pesi in modo inversamente proporzionale alla distanza\n",
    "            w = 1./ distances[inside_ball]\n",
    "            \n",
    "            # uso bincount (passando il parametro weights) \n",
    "            # per votare a maggioranza con sistema pesato\n",
    "            occurrences = np.bincount(y_train[inside_ball], minlength=3, weights=w)\n",
    "        else:\n",
    "            occurrences = np.bincount(y_train[inside_ball], minlength=3)\n",
    "        y_new_pred = np.argmax(occurrences)\n",
    "        \n",
    "    return y_new_pred\n",
    "\n",
    "\n",
    "def rn_predict(X_new, radius, X_train, y_train, weighted):\n",
    "    \n",
    "    y_pred_test = []\n",
    "    for x_test_i in X_new:\n",
    "    # for i in range(len(X_test)):\n",
    "    #     x_test_i = X_test[i]\n",
    "        y_pred_test_i = rn_predict_single(x_test_i, radius, X_train, y_train, weighted)\n",
    "        y_pred_test += [y_pred_test_i]\n",
    "    return np.array(y_pred_test)\n",
    "\n"
   ]
  },
  {
   "cell_type": "code",
   "execution_count": null,
   "metadata": {},
   "outputs": [],
   "source": [
    "import numpy as np\n",
    "import matplotlib.pyplot as plt\n",
    "from matplotlib.pyplot import figure\n",
    "\n",
    "\n",
    "X_train = np.random.random_sample([200, 2])\n",
    "y_train = np.random.randint(0, 2, 200)"
   ]
  },
  {
   "cell_type": "code",
   "execution_count": null,
   "metadata": {},
   "outputs": [],
   "source": [
    "def get_color(integer):\n",
    "    \n",
    "    if integer == 0:\n",
    "        color = \"blue\"\n",
    "    else:\n",
    "        color = \"yellow\"\n",
    "    return color"
   ]
  },
  {
   "cell_type": "code",
   "execution_count": null,
   "metadata": {},
   "outputs": [],
   "source": [
    "radius = 0.1\n",
    "X_new = np.random.random_sample([3, 2])"
   ]
  },
  {
   "cell_type": "code",
   "execution_count": null,
   "metadata": {
    "id": "4DlNZyKeJKQj"
   },
   "outputs": [],
   "source": [
    "fig, ax = plt.subplots(figsize=(10, 10))\n",
    "\n",
    "ax.scatter(X_train[:,0], X_train[:,1], c = y_train)\n",
    "\n",
    "ax.scatter(X_new[:,0], X_new[:,1], c = \"red\")\n",
    "\n",
    "pred = rn_predict(X_new, radius, X_train, y_train, False)\n",
    "\n",
    "for i, new in enumerate(X_new):\n",
    "    cir = plt.Circle(new, radius, color=get_color(pred[i]), fill=True, alpha=0.2)\n",
    "    ax.annotate(str(i+1), new)\n",
    "    ax.add_patch(cir)\n"
   ]
  }
 ],
 "metadata": {
  "colab": {
   "collapsed_sections": [],
   "provenance": []
  },
  "kernelspec": {
   "display_name": "Python 3",
   "language": "python",
   "name": "python3"
  },
  "language_info": {
   "codemirror_mode": {
    "name": "ipython",
    "version": 3
   },
   "file_extension": ".py",
   "mimetype": "text/x-python",
   "name": "python",
   "nbconvert_exporter": "python",
   "pygments_lexer": "ipython3",
   "version": "3.8.5"
  },
  "toc": {
   "base_numbering": 1,
   "nav_menu": {},
   "number_sections": true,
   "sideBar": true,
   "skip_h1_title": false,
   "title_cell": "Table of Contents",
   "title_sidebar": "Contents",
   "toc_cell": true,
   "toc_position": {},
   "toc_section_display": true,
   "toc_window_display": true
  }
 },
 "nbformat": 4,
 "nbformat_minor": 1
}
