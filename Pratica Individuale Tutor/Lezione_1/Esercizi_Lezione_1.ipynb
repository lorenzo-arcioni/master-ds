{
 "cells": [
  {
   "cell_type": "markdown",
   "metadata": {
    "id": "DYoJoVmh8DvY",
    "toc": true
   },
   "source": [
    "<h1>Table of Contents<span class=\"tocSkip\"></span></h1>\n",
    "<div class=\"toc\"><ul class=\"toc-item\"><li><span><a href=\"#Homeworks---Prima-lezione\" data-toc-modified-id=\"Homeworks---Prima-lezione-1\"><span class=\"toc-item-num\">1&nbsp;&nbsp;</span>Homeworks - Prima lezione</a></span><ul class=\"toc-item\"><li><span><a href=\"#Una-variante-di-k-NN:--RadiusNeighbors-(RN)\" data-toc-modified-id=\"Una-variante-di-k-NN:--RadiusNeighbors-(RN)-1.1\"><span class=\"toc-item-num\">1.1&nbsp;&nbsp;</span>Una variante di k-NN:  RadiusNeighbors (RN)</a></span><ul class=\"toc-item\"><li><span><a href=\"#Domanda-1\" data-toc-modified-id=\"Domanda-1-1.1.1\"><span class=\"toc-item-num\">1.1.1&nbsp;&nbsp;</span>Domanda 1</a></span></li><li><span><a href=\"#Domanda-2\" data-toc-modified-id=\"Domanda-2-1.1.2\"><span class=\"toc-item-num\">1.1.2&nbsp;&nbsp;</span>Domanda 2</a></span></li><li><span><a href=\"#Esercizio-1\" data-toc-modified-id=\"Esercizio-1-1.1.3\"><span class=\"toc-item-num\">1.1.3&nbsp;&nbsp;</span>Esercizio 1</a></span></li></ul></li></ul></li></ul></div>"
   ]
  },
  {
   "cell_type": "markdown",
   "metadata": {
    "id": "vCvPd2yT8Dvd"
   },
   "source": [
    "# Homeworks - Prima lezione"
   ]
  },
  {
   "cell_type": "markdown",
   "metadata": {
    "id": "YO7FR2Al8Dve"
   },
   "source": [
    "## Una variante di k-NN:  RadiusNeighbors (RN)"
   ]
  },
  {
   "cell_type": "markdown",
   "metadata": {
    "id": "6R1z2PpQ8Dvf"
   },
   "source": [
    "Invece di calcolare per ogni punto di test i k esempi del train più vicini possiamo usare come vicinato **tutti i punti** che sono a una determinata **distanza r** dal punto.  \n",
    "\n",
    "*(scaricare le due immagini in allegato alla cartella e posizionarle nello stesso percorso del notebook)*\n",
    "\n",
    "![title](Figura_1.png)\n",
    "\n",
    "I vicini **non** sono più un **numero fissato** come in k-NN ma dipendono dalla **densità** intorno al punto di test.\n",
    "\n",
    "![title](Figura_2.png)\n",
    "\n",
    "### Domanda 1\n",
    "Data una distanza **r**, esiste un valore di **k** per cui tutti i possibili vicinati di **k-NN** coincidono con i vicinati di **RN**? Se sì quale?\n",
    "\n",
    "\n",
    "### Domanda 2\n",
    "Quando può essere conveniente usare **RadiusNeighbors** invece di **KNN**?\n"
   ]
  },
  {
   "cell_type": "markdown",
   "metadata": {
    "id": "k5Sg0z-t8Dvg"
   },
   "source": [
    "### Esercizio 1\n",
    "- implementare Radius Neighbors\n",
    "\n",
    "Suggerimento: che parti di KNN devo modificare?\n",
    "\n",
    "**Scrivi qui sotto nella prossima cella il codice corrispondente.**"
   ]
  },
  {
   "cell_type": "code",
   "execution_count": 1,
   "metadata": {},
   "outputs": [],
   "source": [
    "from sklearn import datasets\n",
    "\n",
    "data = datasets.load_iris()"
   ]
  },
  {
   "cell_type": "code",
   "execution_count": 2,
   "metadata": {},
   "outputs": [
    {
     "name": "stdout",
     "output_type": "stream",
     "text": [
      "X shape: (150, 4) y shape: (150,)\n"
     ]
    }
   ],
   "source": [
    "\n",
    "X = data['data']\n",
    "y = data['target']\n",
    "\n",
    "print('X shape:', X.shape, 'y shape:', y.shape)"
   ]
  },
  {
   "cell_type": "markdown",
   "metadata": {},
   "source": [
    "Faccio uno shuffle del dataset per omogeneizzare i dati"
   ]
  },
  {
   "cell_type": "code",
   "execution_count": 3,
   "metadata": {},
   "outputs": [],
   "source": [
    "import numpy as np\n",
    "from numpy.random import default_rng\n",
    "\n",
    "rnd = default_rng(seed = 12)"
   ]
  },
  {
   "cell_type": "code",
   "execution_count": 4,
   "metadata": {},
   "outputs": [],
   "source": [
    "#Genero una permutazione da 0 a 150 che vado a mischiare\n",
    "permutation = rnd.permutation(len(y))\n",
    "\n",
    "#Aggiorno il dataset\n",
    "X = X[permutation]\n",
    "y = y[permutation]"
   ]
  },
  {
   "cell_type": "code",
   "execution_count": 5,
   "metadata": {},
   "outputs": [],
   "source": [
    "#Separo train e test\n",
    "n_test = int(0.1 * X.shape[0])\n",
    "n_train = X.shape[0] - n_test\n",
    "X_train, y_train = X[0:n_train], y[0:n_train]\n",
    "X_test, y_test = X[n_train:], y[n_train:]"
   ]
  },
  {
   "cell_type": "markdown",
   "metadata": {},
   "source": [
    "Calcolo il vettore delle distanze dal punto x_new ad ogni punto della matrice di train (X_train)"
   ]
  },
  {
   "cell_type": "code",
   "execution_count": 6,
   "metadata": {},
   "outputs": [],
   "source": [
    "x_new = X_train[13]"
   ]
  },
  {
   "cell_type": "code",
   "execution_count": 7,
   "metadata": {},
   "outputs": [],
   "source": [
    "distanza = []\n",
    "\n",
    "for x_tr_i in X_train:\n",
    "    d = np.sqrt(np.sum((x_new-x_tr_i)**2))\n",
    "    distanza.append(d)"
   ]
  },
  {
   "cell_type": "markdown",
   "metadata": {},
   "source": [
    "Ora dato un valore di r, trovo tutti i vicini al punto X_train con distanza <= r "
   ]
  },
  {
   "cell_type": "code",
   "execution_count": 9,
   "metadata": {},
   "outputs": [],
   "source": [
    "distanza = np.array(distanza)\n",
    "r = 3\n",
    "k_neighbors = distanza <= r"
   ]
  },
  {
   "cell_type": "markdown",
   "metadata": {},
   "source": [
    "Ed ora faccio la predizione!"
   ]
  },
  {
   "cell_type": "code",
   "execution_count": 13,
   "metadata": {},
   "outputs": [],
   "source": [
    "y_new_pred = np.argmax(np.bincount(y_train[k_neighbors], minlength = 3))"
   ]
  },
  {
   "cell_type": "code",
   "execution_count": 14,
   "metadata": {},
   "outputs": [
    {
     "data": {
      "text/plain": [
       "2"
      ]
     },
     "execution_count": 14,
     "metadata": {},
     "output_type": "execute_result"
    }
   ],
   "source": [
    "y_new_pred"
   ]
  },
  {
   "cell_type": "code",
   "execution_count": null,
   "metadata": {},
   "outputs": [],
   "source": []
  }
 ],
 "metadata": {
  "colab": {
   "provenance": []
  },
  "kernelspec": {
   "display_name": "Python 3 (ipykernel)",
   "language": "python",
   "name": "python3"
  },
  "language_info": {
   "codemirror_mode": {
    "name": "ipython",
    "version": 3
   },
   "file_extension": ".py",
   "mimetype": "text/x-python",
   "name": "python",
   "nbconvert_exporter": "python",
   "pygments_lexer": "ipython3",
   "version": "3.10.8"
  },
  "toc": {
   "base_numbering": 1,
   "nav_menu": {},
   "number_sections": true,
   "sideBar": true,
   "skip_h1_title": false,
   "title_cell": "Table of Contents",
   "title_sidebar": "Contents",
   "toc_cell": true,
   "toc_position": {
    "height": "calc(100% - 180px)",
    "left": "10px",
    "top": "150px",
    "width": "165px"
   },
   "toc_section_display": true,
   "toc_window_display": true
  },
  "vscode": {
   "interpreter": {
    "hash": "4b468087361a8015ed170d92aa7f55857653c093f8785e4a6695b972d925ae2d"
   }
  }
 },
 "nbformat": 4,
 "nbformat_minor": 1
}
