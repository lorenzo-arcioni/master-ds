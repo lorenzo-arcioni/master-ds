{
 "cells": [
  {
   "cell_type": "markdown",
   "metadata": {
    "toc": true
   },
   "source": [
    "<h1>Table of Contents<span class=\"tocSkip\"></span></h1>\n",
    "<div class=\"toc\"><ul class=\"toc-item\"><li><span><a href=\"#1.-The-most-Nobel-of-Prizes\" data-toc-modified-id=\"1.-The-most-Nobel-of-Prizes-1\"><span class=\"toc-item-num\">1&nbsp;&nbsp;</span>1. The most Nobel of Prizes</a></span></li><li><span><a href=\"#2.-So,-who-gets-the-Nobel-Prize?\" data-toc-modified-id=\"2.-So,-who-gets-the-Nobel-Prize?-2\"><span class=\"toc-item-num\">2&nbsp;&nbsp;</span>2. So, who gets the Nobel Prize?</a></span></li><li><span><a href=\"#3.-USA-dominance\" data-toc-modified-id=\"3.-USA-dominance-3\"><span class=\"toc-item-num\">3&nbsp;&nbsp;</span>3. USA dominance</a></span></li><li><span><a href=\"#4.-USA-dominance,-visualized\" data-toc-modified-id=\"4.-USA-dominance,-visualized-4\"><span class=\"toc-item-num\">4&nbsp;&nbsp;</span>4. USA dominance, visualized</a></span></li><li><span><a href=\"#5.-What-is-the-gender-of-a-typical-Nobel-Prize-winner?\" data-toc-modified-id=\"5.-What-is-the-gender-of-a-typical-Nobel-Prize-winner?-5\"><span class=\"toc-item-num\">5&nbsp;&nbsp;</span>5. What is the gender of a typical Nobel Prize winner?</a></span></li><li><span><a href=\"#6.-The-first-woman-to-win-the-Nobel-Prize\" data-toc-modified-id=\"6.-The-first-woman-to-win-the-Nobel-Prize-6\"><span class=\"toc-item-num\">6&nbsp;&nbsp;</span>6. The first woman to win the Nobel Prize</a></span></li><li><span><a href=\"#7.-Repeat-laureates\" data-toc-modified-id=\"7.-Repeat-laureates-7\"><span class=\"toc-item-num\">7&nbsp;&nbsp;</span>7. Repeat laureates</a></span></li><li><span><a href=\"#8.-How-old-are-you-when-you-get-the-prize?\" data-toc-modified-id=\"8.-How-old-are-you-when-you-get-the-prize?-8\"><span class=\"toc-item-num\">8&nbsp;&nbsp;</span>8. How old are you when you get the prize?</a></span></li><li><span><a href=\"#9.-Age-differences-between-prize-categories\" data-toc-modified-id=\"9.-Age-differences-between-prize-categories-9\"><span class=\"toc-item-num\">9&nbsp;&nbsp;</span>9. Age differences between prize categories</a></span></li><li><span><a href=\"#10.-Oldest-and-youngest-winners\" data-toc-modified-id=\"10.-Oldest-and-youngest-winners-10\"><span class=\"toc-item-num\">10&nbsp;&nbsp;</span>10. Oldest and youngest winners</a></span></li><li><span><a href=\"#11.-You-get-a-prize!\" data-toc-modified-id=\"11.-You-get-a-prize!-11\"><span class=\"toc-item-num\">11&nbsp;&nbsp;</span>11. You get a prize!</a></span></li></ul></div>"
   ]
  },
  {
   "cell_type": "markdown",
   "metadata": {
    "dc": {
     "key": "3"
    },
    "deletable": false,
    "editable": false,
    "run_control": {
     "frozen": true
    },
    "tags": [
     "context"
    ]
   },
   "source": [
    "## 1. The most Nobel of Prizes\n",
    "<p><img style=\"float: right;margin:5px 20px 5px 1px; max-width:250px\" src=\"https://assets.datacamp.com/production/project_441/img/Nobel_Prize.png\"></p>\n",
    "<p>The Nobel Prize is perhaps the world's most well known scientific award. Except for the honor, prestige and substantial prize money the recipient also gets a gold medal showing Alfred Nobel (1833 - 1896) who established the prize. Every year it's given to scientists and scholars in the categories chemistry, literature, physics, physiology or medicine, economics, and peace. The first Nobel Prize was handed out in 1901, and at that time the Prize was very Eurocentric and male-focused, but nowadays it's not biased in any way whatsoever. Surely. Right?</p>\n",
    "<p>Well, we're going to find out! The Nobel Foundation has made a dataset available of all prize winners from the start of the prize, in 1901, to 2016. Let's load it in and take a look.</p>"
   ]
  },
  {
   "cell_type": "code",
   "execution_count": null,
   "metadata": {
    "dc": {
     "key": "3"
    },
    "tags": [
     "sample_code"
    ]
   },
   "outputs": [],
   "source": [
    "# Loading in required libraries\n",
    "import pandas as pd\n",
    "import seaborn as sns\n",
    "import numpy as np\n",
    "import matplotlib.pyplot as plt\n",
    "import warnings\n",
    "warnings.filterwarnings('ignore')\n",
    "\n",
    "# Reading in the Nobel Prize data\n",
    "nobel = pd.read_csv(\"nobel.csv\")\n",
    "\n",
    "# Taking a look at the first several winners\n",
    "nobel.head()"
   ]
  },
  {
   "cell_type": "markdown",
   "metadata": {
    "dc": {
     "key": "10"
    },
    "deletable": false,
    "editable": false,
    "run_control": {
     "frozen": true
    },
    "tags": [
     "context"
    ]
   },
   "source": [
    "## 2. So, who gets the Nobel Prize?\n",
    "<p>Just looking at the first couple of prize winners, or Nobel laureates as they are also called, we already see a celebrity: Wilhelm Conrad Röntgen, the guy who discovered X-rays. And actually, we see that all of the winners in 1901 were guys that came from Europe. But that was back in 1901, looking at all winners in the dataset, from 1901 to 2016, which sex and which country is the most commonly represented? </p>\n",
    "<p>(For <em>country</em>, we will use the <code>birth_country</code> of the winner, as the <code>organization_country</code> is <code>NaN</code> for all shared Nobel Prizes.)</p>"
   ]
  },
  {
   "cell_type": "code",
   "execution_count": null,
   "metadata": {
    "dc": {
     "key": "10"
    },
    "tags": [
     "sample_code"
    ]
   },
   "outputs": [],
   "source": [
    "# Display the number of (possibly shared) Nobel Prizes handed\n",
    "# out between 1901 and 2016\n",
    "\n",
    "len(nobel.index)\n",
    "\n",
    "# Display the number of prizes won by male and female recipients.\n",
    "nobel[\"sex\"].value_counts(normalize=True)\n",
    "\n",
    "# Display the number of prizes won by the top 10 nationalities.\n",
    "nobel[\"birth_country\"].value_counts().head(10)"
   ]
  },
  {
   "cell_type": "markdown",
   "metadata": {
    "dc": {
     "key": "17"
    },
    "deletable": false,
    "editable": false,
    "run_control": {
     "frozen": true
    },
    "tags": [
     "context"
    ]
   },
   "source": [
    "## 3. USA dominance\n",
    "<p>Not so surprising perhaps: the most common Nobel laureate between 1901 and 2016 was a man born in the United States of America. But in 1901 all the winners were European. When did the USA start to dominate the Nobel Prize charts?</p>"
   ]
  },
  {
   "cell_type": "code",
   "execution_count": null,
   "metadata": {
    "dc": {
     "key": "17"
    },
    "tags": [
     "sample_code"
    ]
   },
   "outputs": [],
   "source": [
    "# Calculating the proportion of USA born winners per decade\n",
    "nobel['usa_born_winner'] = nobel['birth_country'] == 'United States of America'\n",
    "nobel['decade'] = (np.floor(nobel[\"year\"] / 10) * 10).astype(int)\n",
    "prop_usa_winners = nobel.groupby(\"decade\",as_index=False)[\"usa_born_winner\"].mean()\n",
    "\n",
    "\n",
    "# Display the proportions of USA born winners per decade\n",
    "prop_usa_winners"
   ]
  },
  {
   "cell_type": "markdown",
   "metadata": {
    "dc": {
     "key": "24"
    },
    "deletable": false,
    "editable": false,
    "run_control": {
     "frozen": true
    },
    "tags": [
     "context"
    ]
   },
   "source": [
    "## 4. USA dominance, visualized\n",
    "<p>A table is OK, but to <em>see</em> when the USA started to dominate the Nobel charts we need a plot!</p>"
   ]
  },
  {
   "cell_type": "code",
   "execution_count": null,
   "metadata": {
    "dc": {
     "key": "24"
    },
    "tags": [
     "sample_code"
    ]
   },
   "outputs": [],
   "source": [
    "# Setting the plotting theme and setting the size of all plots.\n",
    "sns.set()\n",
    "plt.rcParams['figure.figsize'] = [8, 5]\n",
    "\n",
    "# Plotting USA born winners \n",
    "ax = sns.lineplot(x=\"decade\" ,y=\"usa_born_winner\", data=prop_usa_winners)\n",
    "\n",
    "# Adding axes' labels and title\n",
    "plt.title(\"The proportion of USA born winners per decade\", \n",
    "          fontdict={'fontsize': 14},\n",
    "          fontweight ='bold',\n",
    "          loc='center')\n",
    "plt.ylabel(\"USA born winners ratio\")\n",
    "plt.xlabel(\"Decade\")\n",
    "plt.xticks(range(1900,2020,10))\n",
    "# Adding %-formatting to the y-axis\n",
    "from matplotlib.ticker import PercentFormatter\n",
    "ax.yaxis.set_major_formatter(PercentFormatter(1.0))"
   ]
  },
  {
   "cell_type": "markdown",
   "metadata": {
    "dc": {
     "key": "31"
    },
    "deletable": false,
    "editable": false,
    "run_control": {
     "frozen": true
    },
    "tags": [
     "context"
    ]
   },
   "source": [
    "## 5. What is the gender of a typical Nobel Prize winner?\n",
    "<p>So the USA became the dominating winner of the Nobel Prize first in the 1930s and had kept the leading position ever since. But one group that was in the lead from the start, and never seems to let go, are <em>men</em>. Maybe it shouldn't come as a shock that there is some imbalance between how many male and female prize winners there are, but how significant is this imbalance? And is it better or worse within specific prize categories like physics, medicine, literature, etc.?</p>"
   ]
  },
  {
   "cell_type": "code",
   "execution_count": null,
   "metadata": {
    "dc": {
     "key": "31"
    },
    "tags": [
     "sample_code"
    ]
   },
   "outputs": [],
   "source": [
    "# Calculating the proportion of female laureates per decade\n",
    "nobel['female_winner'] = nobel[\"sex\"]==\"Female\"\n",
    "prop_female_winners = nobel.groupby([\"decade\",\"category\"], as_index=False)[\"female_winner\"].mean()\n",
    "\n",
    "# Plotting female winners \n",
    "ax = sns.barplot(x=\"decade\", y=\"female_winner\", hue=\"category\", data=prop_female_winners)\n",
    "\n",
    "# Adding axes' labels, title and legend\n",
    "plt.title(\"The proportion of female winners per decade by categories\", \n",
    "          fontdict={'fontsize': 14},\n",
    "          fontweight ='bold',\n",
    "          loc='center')\n",
    "plt.ylabel(\"Female winners ratio\")\n",
    "plt.xlabel(\"Decade\")\n",
    "plt.legend(loc='upper left')\n",
    "\n",
    "# Adding %-formatting to the y-axis\n",
    "from matplotlib.ticker import PercentFormatter\n",
    "ax.yaxis.set_major_formatter(PercentFormatter(1.0))"
   ]
  },
  {
   "cell_type": "markdown",
   "metadata": {},
   "source": [
    "Ulteriori grafici"
   ]
  },
  {
   "cell_type": "code",
   "execution_count": null,
   "metadata": {},
   "outputs": [],
   "source": [
    "# Calculating the proportion of female laureates per decade\n",
    "nobel['female_winner'] = nobel['sex'] == 'Female'\n",
    "prop_female_winners = nobel.groupby(['decade', 'category'], as_index=False)['female_winner'].mean()\n",
    "\n",
    "# Plotting female winners with % winners on the y-axis\n",
    "ax = sns.lineplot(x='decade', y='female_winner', hue='category', data=prop_female_winners)\n",
    "ax.yaxis.set_major_formatter(PercentFormatter(1.0))"
   ]
  },
  {
   "cell_type": "code",
   "execution_count": null,
   "metadata": {},
   "outputs": [],
   "source": [
    "# Converting birth_date from String to datetime\n",
    "nobel['birth_date'] = pd.to_datetime(nobel.birth_date)\n",
    "\n",
    "# Calculating the age of Nobel Prize winners\n",
    "nobel['age'] = nobel[\"year\"] - nobel['birth_date'].dt.year\n",
    "\n",
    "# Creating age categories\n",
    "bins = [nobel[\"age\"].min()-1,29,39,49,59,69,79,nobel[\"age\"].max()]\n",
    "label = [\"<-29\",\"30-39\",\"40-49\",\"50-59\",\"60-69\",\"70-79\",\"80+\"]\n",
    "nobel[\"age_interval\"] = pd.cut(nobel[\"age\"], bins=bins, labels = label)\n",
    "\n",
    "# Total number of winners\n",
    "total = float(len(nobel))\n",
    "\n",
    "# Grouping winners by age interval and sex \n",
    "nobel_age_interval = nobel.groupby([\"sex\",\"age_interval\"])[\"laureate_id\"].count()\n",
    "nobel_age_interval = pd.DataFrame(nobel_age_interval).reset_index()\n",
    "nobel_age_interval.columns = [\"sex\",\"age_interval\",\"number_of_winners\"]\n",
    "\n",
    "# Calculation of the distribution ratio by age interval and sex\n",
    "nobel_age_interval[\"ratio\"] = round((nobel_age_interval[\"number_of_winners\"]/total)*100,2)\n",
    "nobel_age_interval.head()"
   ]
  },
  {
   "cell_type": "code",
   "execution_count": null,
   "metadata": {},
   "outputs": [],
   "source": [
    "# Plotting the age distribution of Nobel Prize winners by sex\n",
    "ax = sns.barplot(x=\"age_interval\", y=\"number_of_winners\", \n",
    "                 hue=\"sex\",\n",
    "                 data=nobel_age_interval, \n",
    "                 palette=\"Set2\")\n",
    "\n",
    "# Bin label/text\n",
    "#for bar in ax.patches:\n",
    "    #ax.annotate(format(bar.get_height()), \n",
    "                   #(bar.get_x() + bar.get_width() / 2, bar.get_height()), \n",
    "                   #ha = 'center', va = 'center', size=8,\n",
    "                   #xytext = (0, 9), \n",
    "                   #textcoords = 'offset points')\n",
    "    \n",
    "# Adding axes' labels, title and legend\n",
    "plt.title(\"Age distribution of Nobel Prize winners by sex\", \n",
    "          fontdict={'fontsize': 14},\n",
    "          fontweight ='bold',\n",
    "          loc='center')\n",
    "plt.ylabel(\"Number of winners\")\n",
    "plt.xlabel(\"Age interval\")\n",
    "plt.legend(loc='upper left')\n",
    "plt.show()"
   ]
  },
  {
   "cell_type": "markdown",
   "metadata": {
    "dc": {
     "key": "38"
    },
    "deletable": false,
    "editable": false,
    "run_control": {
     "frozen": true
    },
    "tags": [
     "context"
    ]
   },
   "source": [
    "## 6. The first woman to win the Nobel Prize\n",
    "<p>The plot above is a bit messy as the lines are overplotting. But it does show some interesting trends and patterns. Overall the imbalance is pretty large with physics, economics, and chemistry having the largest imbalance. Medicine has a somewhat positive trend, and since the 1990s the literature prize is also now more balanced. The big outlier is the peace prize during the 2010s, but keep in mind that this just covers the years 2010 to 2016.</p>\n",
    "<p>Given this imbalance, who was the first woman to receive a Nobel Prize? And in what category?</p>"
   ]
  },
  {
   "cell_type": "code",
   "execution_count": null,
   "metadata": {
    "dc": {
     "key": "38"
    },
    "tags": [
     "sample_code"
    ]
   },
   "outputs": [],
   "source": [
    "# Picking out the first woman to win a Nobel Prize\n",
    "nobel[nobel[\"sex\"]==\"Female\"].nsmallest(1, columns=\"year\")"
   ]
  },
  {
   "cell_type": "markdown",
   "metadata": {
    "dc": {
     "key": "45"
    },
    "deletable": false,
    "editable": false,
    "run_control": {
     "frozen": true
    },
    "tags": [
     "context"
    ]
   },
   "source": [
    "## 7. Repeat laureates\n",
    "<p>For most scientists/writers/activists a Nobel Prize would be the crowning achievement of a long career. But for some people, one is just not enough, and few have gotten it more than once. Who are these lucky few? (Having won no Nobel Prize myself, I'll assume it's just about luck.)</p>"
   ]
  },
  {
   "cell_type": "markdown",
   "metadata": {},
   "source": [
    "1a soluzione"
   ]
  },
  {
   "cell_type": "code",
   "execution_count": null,
   "metadata": {
    "dc": {
     "key": "45"
    },
    "tags": [
     "sample_code"
    ]
   },
   "outputs": [],
   "source": [
    "# Selecting the laureates that have received 2 or more prizes.\n",
    "columns = nobel[[\"full_name\",\"year\",\"category\",\"laureate_id\",\"sex\",\"prize\"]]\n",
    "#nobel.groupby('full_name').filter(lambda group: len(group) >= 2)\n",
    "two_times_winners = columns.groupby(\"full_name\").filter(lambda group: len(group) >= 2).sort_values(\"laureate_id\")\n",
    "two_times_winners"
   ]
  },
  {
   "cell_type": "markdown",
   "metadata": {},
   "source": [
    "2a soluzione"
   ]
  },
  {
   "cell_type": "code",
   "execution_count": null,
   "metadata": {},
   "outputs": [],
   "source": [
    "nobel[nobel.duplicated(subset = 'full_name', keep = False)]"
   ]
  },
  {
   "cell_type": "markdown",
   "metadata": {
    "dc": {
     "key": "52"
    },
    "deletable": false,
    "editable": false,
    "run_control": {
     "frozen": true
    },
    "tags": [
     "context"
    ]
   },
   "source": [
    "## 8. How old are you when you get the prize?\n",
    "<p>The list of repeat winners contains some illustrious names! We again meet Marie Curie, who got the prize in physics for discovering radiation and in chemistry for isolating radium and polonium. John Bardeen got it twice in physics for transistors and superconductivity, Frederick Sanger got it twice in chemistry, and Linus Carl Pauling got it first in chemistry and later in peace for his work in promoting nuclear disarmament. We also learn that organizations also get the prize as both the Red Cross and the UNHCR have gotten it twice.</p>\n",
    "<p>But how old are you generally when you get the prize?</p>"
   ]
  },
  {
   "cell_type": "code",
   "execution_count": null,
   "metadata": {
    "dc": {
     "key": "52"
    },
    "tags": [
     "sample_code"
    ]
   },
   "outputs": [],
   "source": [
    "# Converting birth_date from String to datetime\n",
    "nobel['birth_date'] = pd.to_datetime(nobel['birth_date'])\n",
    "\n",
    "# Calculating the age of Nobel Prize winners\n",
    "nobel['age'] = nobel['year'] - nobel['birth_date'].dt.year\n",
    "\n",
    "# Plotting the age of Nobel Prize winners\n",
    "sns.lmplot(x='year', y='age', data=nobel, lowess=True, \n",
    "           aspect=2, line_kws={'color' : 'black'})"
   ]
  },
  {
   "cell_type": "markdown",
   "metadata": {
    "dc": {
     "key": "59"
    },
    "deletable": false,
    "editable": false,
    "run_control": {
     "frozen": true
    },
    "tags": [
     "context"
    ]
   },
   "source": [
    "## 9. Age differences between prize categories\n",
    "<p>The plot above shows us a lot! We see that people use to be around 55 when they received the price, but nowadays the average is closer to 65. But there is a large spread in the laureates' ages, and while most are 50+, some are very young.</p>\n",
    "<p>We also see that the density of points is much high nowadays than in the early 1900s -- nowadays many more of the prizes are shared, and so there are many more winners. We also see that there was a disruption in awarded prizes around the Second World War (1939 - 1945). </p>\n",
    "<p>Let's look at age trends within different prize categories.</p>"
   ]
  },
  {
   "cell_type": "code",
   "execution_count": null,
   "metadata": {
    "dc": {
     "key": "59"
    },
    "tags": [
     "sample_code"
    ]
   },
   "outputs": [],
   "source": [
    "# Same plot as above, but separate plots for each type of Nobel Prize\n",
    "sns.lmplot(x='year', y='age', row='category', data=nobel, lowess=True, \n",
    "           aspect=2, line_kws={'color' : 'black'})"
   ]
  },
  {
   "cell_type": "code",
   "execution_count": null,
   "metadata": {},
   "outputs": [],
   "source": [
    "# Same plot as above, but separate plots for each type of Nobel Prize\n",
    "ax = sns.lmplot(x=\"year\", y=\"age\", data=nobel, \n",
    "                hue=\"category\", \n",
    "                col=\"category\", \n",
    "                col_wrap=3)\n",
    "plt.show()"
   ]
  },
  {
   "cell_type": "markdown",
   "metadata": {
    "dc": {
     "key": "66"
    },
    "deletable": false,
    "editable": false,
    "run_control": {
     "frozen": true
    },
    "tags": [
     "context"
    ]
   },
   "source": [
    "## 10. Oldest and youngest winners\n",
    "<p>More plots with lots of exciting stuff going on! We see that both winners of the chemistry, medicine, and physics prize have gotten older over time. The trend is strongest for physics: the average age used to be below 50, and now it's almost 70. Literature and economics are more stable. We also see that economics is a newer category. But peace shows an opposite trend where winners are getting younger! </p>\n",
    "<p>In the peace category we also a winner around 2010 that seems exceptionally young. This begs the questions, who are the oldest and youngest people ever to have won a Nobel Prize?</p>"
   ]
  },
  {
   "cell_type": "code",
   "execution_count": null,
   "metadata": {},
   "outputs": [],
   "source": [
    "display(nobel.nlargest(1, 'age'))\n",
    "\n",
    "display(nobel.nsmallest(1, 'age', keep='all'))\n"
   ]
  },
  {
   "cell_type": "markdown",
   "metadata": {},
   "source": [
    "Esercizio extra "
   ]
  },
  {
   "cell_type": "markdown",
   "metadata": {
    "dc": {
     "key": "73"
    },
    "deletable": false,
    "editable": false,
    "run_control": {
     "frozen": true
    },
    "tags": [
     "context"
    ]
   },
   "source": [
    "## 11. You get a prize!\n",
    "<p><img style=\"float: right;margin:20px 20px 20px 20px; max-width:200px\" src=\"https://assets.datacamp.com/production/project_441/img/paint_nobel_prize.png\"></p>\n",
    "<p>Hey! You get a prize for making it to the very end of this notebook! It might not be a Nobel Prize, but I made it myself in paint so it should count for something. But don't despair, Leonid Hurwicz was 90 years old when he got his prize, so it might not be too late for you. Who knows.</p>\n",
    "<p>Before you leave, what was again the name of the youngest winner ever who in 2014 got the prize for \"[her] struggle against the suppression of children and young people and for the right of all children to education\"?</p>"
   ]
  },
  {
   "cell_type": "code",
   "execution_count": null,
   "metadata": {},
   "outputs": [],
   "source": [
    "nobel_2014_Peace = nobel[(nobel.year == 2014) & (nobel.category == 'Peace')]\n",
    "\n",
    "nobel_2014_Peace.nsmallest(1,'age')"
   ]
  }
 ],
 "metadata": {
  "kernelspec": {
   "display_name": "base",
   "language": "python",
   "name": "python3"
  },
  "language_info": {
   "codemirror_mode": {
    "name": "ipython",
    "version": 3
   },
   "file_extension": ".py",
   "mimetype": "text/x-python",
   "name": "python",
   "nbconvert_exporter": "python",
   "pygments_lexer": "ipython3",
   "version": "3.8.5"
  },
  "toc": {
   "base_numbering": 1,
   "nav_menu": {},
   "number_sections": true,
   "sideBar": true,
   "skip_h1_title": false,
   "title_cell": "Table of Contents",
   "title_sidebar": "Contents",
   "toc_cell": true,
   "toc_position": {
    "height": "calc(100% - 180px)",
    "left": "10px",
    "top": "150px",
    "width": "165px"
   },
   "toc_section_display": true,
   "toc_window_display": true
  },
  "vscode": {
   "interpreter": {
    "hash": "711c698ed5622e7c670ab1b26e745bff2fb6fe15223ac1fe924b94fc1ce056bd"
   }
  }
 },
 "nbformat": 4,
 "nbformat_minor": 2
}
