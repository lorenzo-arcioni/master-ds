{
 "cells": [
  {
   "cell_type": "markdown",
   "metadata": {
    "toc": true
   },
   "source": [
    "<h1>Table of Contents<span class=\"tocSkip\"></span></h1>\n",
    "<div class=\"toc\"><ul class=\"toc-item\"></ul></div>"
   ]
  },
  {
   "cell_type": "markdown",
   "metadata": {},
   "source": [
    "**Esercizio 1**\n",
    "\n",
    "Implementa l'algoritmo kmeans senza l'utilizzo di scikit-learn sottoforma di funzione\n",
    "\n",
    "**Esercizio 2**\n",
    "\n",
    "Cosa rappresenta il coefficiente di Silhouette in un cluster?"
   ]
  },
  {
   "cell_type": "markdown",
   "metadata": {},
   "source": [
    "**SOLUZIONI**"
   ]
  },
  {
   "cell_type": "markdown",
   "metadata": {},
   "source": [
    "**Esercizio 1**\n",
    "\n"
   ]
  },
  {
   "cell_type": "markdown",
   "metadata": {},
   "source": [
    "Il modo più semplice per implementare l'algoritmo k-means senza l'utilizzo di librerie esterne è quello di seguire i passi dell'algoritmo:\n",
    "\n",
    "1.Inizializzare i centroidi delle k cluster in modo casuale, scegliendo k punti a caso dal dataset.\n",
    "\n",
    "2.Assegnare ciascun punto del dataset al cluster il cui centroide è più vicino.\n",
    "\n",
    "3.Calcolare la nuova posizione dei centroidi come la media dei punti assegnati a ciascun cluster.\n",
    "\n",
    "4.Ripetere i passi 2 e 3 fino a quando la posizione dei centroidi non cambia più o fino a quando non si raggiunge un numero massimo di iterazioni.\n",
    "\n",
    "Ecco un possibile codice in python che implementa l'algoritmo k-means senza l'utilizzo di librerie esterne:"
   ]
  },
  {
   "cell_type": "code",
   "execution_count": 4,
   "metadata": {},
   "outputs": [],
   "source": [
    "import numpy as np\n",
    "\n",
    "def kmeans(X, k, max_iterations=1000):\n",
    "    # Inizializzazione dei centroidi\n",
    "    centroids = X[np.random.choice(X.shape[0], k, replace=False)]\n",
    "    \n",
    "    for _ in range(max_iterations):\n",
    "        # Assegnazione dei punti ai cluster\n",
    "        distances = np.array([np.linalg.norm(X - centroid, axis=1) for centroid in centroids])\n",
    "        clusters = np.argmin(distances, axis=0)\n",
    "        \n",
    "        # Calcolo della nuova posizione dei centroidi\n",
    "        new_centroids = np.array([X[clusters == i].mean(axis=0) for i in range(k)])\n",
    "        \n",
    "        # Verifica se i centroidi si sono spostati\n",
    "        if np.all(centroids == new_centroids):\n",
    "            break\n",
    "        centroids = new_centroids\n",
    "    \n",
    "    return clusters, centroids\n"
   ]
  },
  {
   "cell_type": "markdown",
   "metadata": {},
   "source": [
    "**Esercizio 2**\n",
    "\n",
    "Il coefficiente di silhouette (Silhouette Coefficient, in inglese) è una misura utilizzata per valutare la qualità dei cluster in un algoritmo di clustering. Il coefficiente di silhouette di un punto di un cluster misura quanto bene quel punto si adatta al proprio cluster rispetto ad altri cluster.\n",
    "\n",
    "Il valore del coefficiente di silhouette varia tra -1 e 1, dove valori più vicini a 1 indicano una maggiore adattabilità del punto al proprio cluster, mentre valori più vicini a -1 indicano che il punto potrebbe essere stato assegnato al cluster sbagliato.\n",
    "\n",
    "Il coefficiente di silhouette di un punto è calcolato come la differenza tra la distanza media del punto a tutti i punti del proprio cluster (chiamata coesione) e la distanza media del punto a tutti i punti dei cluster più vicini (chiamata separazione). Il coefficiente di silhouette viene calcolato per ciascun punto del dataset e quindi la media dei coefficienti di silhouette dei punti di un cluster fornisce una misura della qualità del cluster.\n",
    "\n",
    "In generale, una buona soluzione di clustering dovrebbe avere una silhouette media elevata, poiché indica che i punti all'interno di un cluster sono simili tra loro e diversi dai punti dei cluster vicini.\n",
    "\n",
    "Il coefficiente di silhouette può essere utilizzato per scegliere il numero ottimale di cluster, ma è importante notare che non è un metodo infallibile e non è sempre applicabile o indicativo in ogni situazione di clustering.\n",
    "\n"
   ]
  },
  {
   "cell_type": "code",
   "execution_count": null,
   "metadata": {},
   "outputs": [],
   "source": []
  },
  {
   "cell_type": "code",
   "execution_count": null,
   "metadata": {},
   "outputs": [],
   "source": []
  }
 ],
 "metadata": {
  "kernelspec": {
   "display_name": "Python 3",
   "language": "python",
   "name": "python3"
  },
  "language_info": {
   "codemirror_mode": {
    "name": "ipython",
    "version": 3
   },
   "file_extension": ".py",
   "mimetype": "text/x-python",
   "name": "python",
   "nbconvert_exporter": "python",
   "pygments_lexer": "ipython3",
   "version": "3.8.3"
  },
  "toc": {
   "base_numbering": 1,
   "nav_menu": {},
   "number_sections": true,
   "sideBar": true,
   "skip_h1_title": false,
   "title_cell": "Table of Contents",
   "title_sidebar": "Contents",
   "toc_cell": true,
   "toc_position": {},
   "toc_section_display": true,
   "toc_window_display": true
  }
 },
 "nbformat": 4,
 "nbformat_minor": 4
}
