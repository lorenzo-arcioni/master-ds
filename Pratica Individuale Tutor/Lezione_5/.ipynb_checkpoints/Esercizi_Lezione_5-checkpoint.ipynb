{
 "cells": [
  {
   "cell_type": "markdown",
   "metadata": {
    "id": "NTsyy7xKBmV-",
    "toc": true
   },
   "source": [
    "<h1>Table of Contents<span class=\"tocSkip\"></span></h1>\n",
    "<div class=\"toc\"><ul class=\"toc-item\"><li><span><a href=\"#Abalone-dataset\" data-toc-modified-id=\"Abalone-dataset-1\"><span class=\"toc-item-num\">1&nbsp;&nbsp;</span>Abalone dataset</a></span></li></ul></div>"
   ]
  },
  {
   "cell_type": "markdown",
   "metadata": {
    "id": "M-x-ZSC4BmWC"
   },
   "source": [
    "### Abalone dataset"
   ]
  },
  {
   "cell_type": "markdown",
   "metadata": {
    "id": "ibJNI-MSBmWD"
   },
   "source": [
    "\n",
    "Scaricare il file nella sezione download dal sito di UCI: http://archive.ics.uci.edu/ml/datasets/Abalone.\n",
    "\n",
    "Dopo averlo esplorato attraverso un' EDA, rispondi per iscritto alle seguenti domande giustificandole:\n",
    "\n",
    "- Quale potrebbe essere la colonna target da predire? \n",
    "- Si tratta di un problema di regressione o di classificazione? \n",
    "- E' possibile in questo caso trasformare un problema di regressione in uno di classificazione e viceversa? "
   ]
  },
  {
   "cell_type": "code",
   "execution_count": null,
   "metadata": {},
   "outputs": [],
   "source": []
  }
 ],
 "metadata": {
  "colab": {
   "name": "Esercizi_Lezione_5.ipynb",
   "provenance": []
  },
  "kernelspec": {
   "display_name": "Python 3",
   "language": "python",
   "name": "python3"
  },
  "language_info": {
   "codemirror_mode": {
    "name": "ipython",
    "version": 3
   },
   "file_extension": ".py",
   "mimetype": "text/x-python",
   "name": "python",
   "nbconvert_exporter": "python",
   "pygments_lexer": "ipython3",
   "version": "3.8.3"
  },
  "toc": {
   "base_numbering": 1,
   "nav_menu": {},
   "number_sections": true,
   "sideBar": true,
   "skip_h1_title": false,
   "title_cell": "Table of Contents",
   "title_sidebar": "Contents",
   "toc_cell": true,
   "toc_position": {
    "height": "calc(100% - 180px)",
    "left": "10px",
    "top": "150px",
    "width": "165px"
   },
   "toc_section_display": true,
   "toc_window_display": true
  }
 },
 "nbformat": 4,
 "nbformat_minor": 1
}
