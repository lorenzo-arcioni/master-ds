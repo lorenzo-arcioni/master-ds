{
 "cells": [
  {
   "cell_type": "markdown",
   "metadata": {
    "toc": true
   },
   "source": [
    "<h1>Table of Contents<span class=\"tocSkip\"></span></h1>\n",
    "<div class=\"toc\"><ul class=\"toc-item\"></ul></div>"
   ]
  },
  {
   "cell_type": "markdown",
   "metadata": {},
   "source": [
    "**Esercizio 1: Cross-Validation**\n",
    "\n",
    "- implementare KFold senza utilizzare la libreria sklearn"
   ]
  },
  {
   "attachments": {},
   "cell_type": "markdown",
   "metadata": {},
   "source": [
    "**Esercizio 2: Customer Churn**\n",
    "\n",
    "- Che cosa è la *customer churn*? Comprendilo al meglio in max 5 minuti utilizzando Google!\n",
    "\n",
    "Una volta che hai terminato la tua ricerca affronta il seguente problema:\n",
    "\n",
    "Sono il tuo capo e tu sei un junior data scientist. La nostra società ha un grosso problema di customer churn. In che modo puoi usare le tue skill per risolvere il problema? Scrivi per iscritto la tua risposta specificando quale tipo di modello e di algoritmo di ML utilizzeresti e perché per risolvere la situazione."
   ]
  },
  {
   "cell_type": "markdown",
   "metadata": {},
   "source": [
    "**Esercizio 1:**"
   ]
  },
  {
   "cell_type": "code",
   "execution_count": 1,
   "metadata": {},
   "outputs": [],
   "source": [
    "import numpy as np"
   ]
  },
  {
   "cell_type": "code",
   "execution_count": 2,
   "metadata": {},
   "outputs": [],
   "source": [
    "def kfold(X, y, k, shuffle=True):\n",
    "    \"\"\"\n",
    "    Generates K folds for K-Fold Cross-Validation.\n",
    "    \n",
    "    Parameters:\n",
    "    X: array-like, shape (n_samples, n_features)\n",
    "        The data to be split into folds.\n",
    "    y: array-like, shape (n_samples,)\n",
    "        The target values for the data.\n",
    "    k: int\n",
    "        The number of folds.\n",
    "    shuffle: bool (default: True)\n",
    "        Whether to shuffle the data before splitting into folds.\n",
    "        \n",
    "    Returns:\n",
    "    folds: list of tuples\n",
    "        Each tuple contains the train and test indices for a fold.\n",
    "    \"\"\"\n",
    "    n_samples = X.shape[0]\n",
    "    \n",
    "    # Shuffle the data if needed\n",
    "    if shuffle:\n",
    "        indices = np.random.permutation(n_samples)\n",
    "        X = X[indices]\n",
    "        y = y[indices]\n",
    "    \n",
    "    # Calculate the size of each fold\n",
    "    fold_size = n_samples // k\n",
    "    \n",
    "    # Initialize the folds list\n",
    "    folds = []\n",
    "    \n",
    "    # Split the data into k folds\n",
    "    for i in range(k):\n",
    "        # Determine the start and end indices of the fold\n",
    "        start = i * fold_size\n",
    "        end = (i + 1) * fold_size\n",
    "        \n",
    "        # Check if this is the last fold\n",
    "        if i == k - 1:\n",
    "            # If this is the last fold, include all remaining samples\n",
    "            end = n_samples\n",
    "        \n",
    "        # Append the train and test indices for this fold to the folds list\n",
    "        folds.append((np.concatenate((indices[:start], indices[end:])), indices[start:end]))\n",
    "    \n",
    "    return folds\n"
   ]
  },
  {
   "cell_type": "markdown",
   "metadata": {},
   "source": [
    "Esempio di applicazione della funzione kfold"
   ]
  },
  {
   "cell_type": "code",
   "execution_count": 3,
   "metadata": {},
   "outputs": [
    {
     "data": {
      "image/png": "[encoded data removed]",
      "text/plain": [
       "<Figure size 432x288 with 1 Axes>"
      ]
     },
     "metadata": {
      "needs_background": "light"
     },
     "output_type": "display_data"
    }
   ],
   "source": [
    "import matplotlib.pyplot as plt\n",
    "\n",
    "# Generate some toy data\n",
    "X = np.array([[1.0, 0.5], [2.0, 1.0], [2.0, 1.5], [3.0, 0.75], [2.25, 1.25],\n",
    "              [1.0, 3.5], [2.0, 3.0], [2.0, 2.5], [3.0, 3.75], [1.25, 3.25],\n",
    "              [3.0, 2.0], [3.5, 3.0], [3.5, 1.0], [4.0, 3.0], [3.75, 2.25],\n",
    "              [1.0, 2.0], [1.0, 1.5], [0.5, 1.0], [0.75, 3.0], [1.75, 2.0]])\n",
    "\n",
    "y = np.array([1, 1, 1, 1, 1,\n",
    "              1, 1, 1, 1, 1,\n",
    "              2, 2, 2, 2, 2,\n",
    "              3, 3, 3, 3, 3])\n",
    "\n",
    "plt.scatter(X[:, 0], X[:, 1], c=y)\n",
    "plt.show()"
   ]
  },
  {
   "cell_type": "code",
   "execution_count": 4,
   "metadata": {},
   "outputs": [
    {
     "name": "stdout",
     "output_type": "stream",
     "text": [
      "fold N: 0, accuracy: 0.75\n",
      "fold N: 1, accuracy: 0.5\n",
      "fold N: 2, accuracy: 0.25\n",
      "fold N: 3, accuracy: 0.5\n",
      "fold N: 4, accuracy: 0.5\n",
      "Mean accuracy: 0.50\n"
     ]
    }
   ],
   "source": [
    "from sklearn.ensemble import RandomForestClassifier\n",
    "\n",
    "# Define the number of folds\n",
    "k = 5\n",
    "\n",
    "# Generate the folds\n",
    "folds = kfold(X, y, k)\n",
    "\n",
    "# Define the model\n",
    "model = RandomForestClassifier()\n",
    "\n",
    "# Initialize a list to store the evaluation scores\n",
    "scores = []\n",
    "\n",
    "# Iterate over the folds\n",
    "for i, (train_indices, test_indices) in enumerate(folds):\n",
    "    # Split the data into train and test sets\n",
    "    X_train, X_test = X[train_indices], X[test_indices]\n",
    "    y_train, y_test = y[train_indices], y[test_indices]\n",
    "    \n",
    "    # Train the model on the training data\n",
    "    model.fit(X_train, y_train)\n",
    "    \n",
    "    # Evaluate the model on the test data\n",
    "    score = model.score(X_test, y_test)\n",
    "    print(f\"fold N: {i}, accuracy: {score}\")\n",
    "    \n",
    "    # Append the evaluation score to the scores list\n",
    "    scores.append(score)\n",
    "\n",
    "# Calculate the mean and standard deviation of the scores\n",
    "mean_score = np.mean(scores)\n",
    "std_dev = np.std(scores)\n",
    "\n",
    "print(f\"Mean accuracy: {mean_score:.2f}\")\n"
   ]
  },
  {
   "cell_type": "markdown",
   "metadata": {},
   "source": [
    "**Esercizio 2:**"
   ]
  },
  {
   "cell_type": "markdown",
   "metadata": {},
   "source": [
    "Il **customer churn**, noto anche come customer attrition, è un termine usato nel mondo degli affari per descrivere la perdita di clienti in un certo periodo di tempo. In genere viene misurato come la percentuale di clienti che smettono di fare affari con un'azienda entro un determinato periodo di tempo. Ad esempio, se un'azienda ha 100 clienti e 10 di loro smettono di fare affari con l'azienda entro un anno, il tasso di abbandono dei clienti dell'azienda per quell'anno sarebbe del 10%.\n",
    "\n",
    "Il tasso di abbandono dei clienti è una metrica importante da monitorare per le aziende perché può avere un impatto significativo sulle entrate e sulla redditività di un'azienda. Le aziende che registrano alti livelli di abbandono dei clienti potrebbero dover trovare modi per migliorare i propri prodotti o servizi, aumentare la soddisfazione dei clienti o affrontare altri problemi che stanno causando l'abbandono dei clienti. Comprendendo i fattori che contribuiscono al tasso di abbandono dei clienti, le aziende possono sviluppare strategie per ridurre il tasso di abbandono e fidelizzare i propri clienti."
   ]
  },
  {
   "cell_type": "markdown",
   "metadata": {},
   "source": [
    "*Sono il tuo capo e tu sei un junior data scientist. La nostra società ha un grosso problema di customer churn. In che modo puoi usare le tue skill per risolvere il problema? Scrivi per iscritto la tua risposta specificando quale tipo di modello e di algoritmo di ML utilizzeresti e perché per risolvere la situazione.*"
   ]
  },
  {
   "attachments": {},
   "cell_type": "markdown",
   "metadata": {},
   "source": [
    "Innanzitutto, raccoglierei e analizzerei i dati sul tasso di abbandono dei nostri clienti e tutti i fattori rilevanti che potrebbero contribuirvi. Ciò potrebbe includere dati sui dati demografici dei clienti, comportamento di acquisto, utilizzo del prodotto, livelli di soddisfazione e altri fattori che potrebbero essere rilevanti per la fidelizzazione dei clienti.\n",
    "\n",
    "Successivamente, utilizzerei questi dati per costruire un modello predittivo in grado di identificare i clienti a rischio di abbandono. A seconda della natura dei dati e del problema specifico in questione, potrei consigliare di utilizzare un modello di classificazione come un albero decisionale, una random forest o una regressione logistica. Questi modelli sono adatti per prevedere risultati binari (come abbandono o non abbandono) e possono gestire un'ampia varietà di funzioni di input.\n",
    "\n",
    "Una volta sviluppato un modello predittivo, lo userei per identificare i clienti a rischio di abbandono e dare loro la priorità per gli sforzi di fidelizzazione. Ciò potrebbe comportare campagne di marketing mirate, promozioni speciali o altre strategie per incoraggiare questi clienti a continuare a comprare dalla nostra azienda.\n",
    "\n",
    "Per migliorare ulteriormente i nostri sforzi di fidelizzazione dei clienti, consiglierei anche di implementare un processo di miglioramento continuo per monitorare l'efficacia dei nostri sforzi di fidelizzazione e apportare modifiche continue secondo necessità. Ciò potrebbe comportare una valutazione regolare delle prestazioni del nostro modello predittivo e il suo utilizzo per identificare nuovi fattori di rischio o sviluppare nuove strategie di conservazione.\n",
    "\n",
    "Nel complesso, credo che l'utilizzo di tecniche di apprendimento automatico come la modellazione predittiva possa essere un modo efficace per affrontare il tasso di abbandono dei clienti e migliorare i tassi di fidelizzazione. Sfruttando dati e algoritmi avanzati, possiamo identificare i clienti a rischio di abbandono e intraprendere azioni mirate per fidelizzarli."
   ]
  }
 ],
 "metadata": {
  "kernelspec": {
   "display_name": "Python 3",
   "language": "python",
   "name": "python3"
  },
  "language_info": {
   "codemirror_mode": {
    "name": "ipython",
    "version": 3
   },
   "file_extension": ".py",
   "mimetype": "text/x-python",
   "name": "python",
   "nbconvert_exporter": "python",
   "pygments_lexer": "ipython3",
   "version": "3.8.5"
  },
  "toc": {
   "base_numbering": 1,
   "nav_menu": {},
   "number_sections": true,
   "sideBar": true,
   "skip_h1_title": false,
   "title_cell": "Table of Contents",
   "title_sidebar": "Contents",
   "toc_cell": true,
   "toc_position": {},
   "toc_section_display": true,
   "toc_window_display": true
  }
 },
 "nbformat": 4,
 "nbformat_minor": 4
}
