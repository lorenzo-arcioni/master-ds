{
 "cells": [
  {
   "cell_type": "markdown",
   "metadata": {
    "id": "Ke49y8HMDXKu",
    "toc": true
   },
   "source": [
    "<h1>Table of Contents<span class=\"tocSkip\"></span></h1>\n",
    "<div class=\"toc\"><ul class=\"toc-item\"></ul></div>"
   ]
  },
  {
   "attachments": {},
   "cell_type": "markdown",
   "metadata": {
    "id": "tVUTyV4qDXKy"
   },
   "source": [
    "**Esercizio 1: Cross-Validation**\n",
    "\n",
    "- implementare KFold senza utilizzare la libreria sklearn. Un ottimo modo per aiutarti nell'implementazione è utilizzare un dataset di esempio, anche\n",
    "anche generato da te\n"
   ]
  },
  {
   "attachments": {},
   "cell_type": "markdown",
   "metadata": {
    "id": "bIO5N0rPDXKz"
   },
   "source": [
    "**Esercizio 2: Customer Churn**\n",
    "\n",
    "- Che cosa è la *customer churn*? Comprendilo al meglio in max 5 minuti utilizzando Google.\n",
    "\n",
    "Una volta che hai terminato la tua ricerca affronta il seguente problema:\n",
    "\n",
    "Sono il tuo capo e tu sei un junior data scientist. La nostra società ha un grosso problema di customer churn. In che modo puoi usare le tue skill per risolvere il problema? Scrivi per iscritto la tua risposta specificando quale tipo di modello e di algoritmo di ML utilizzeresti e perché per risolvere la situazione."
   ]
  }
 ],
 "metadata": {
  "colab": {
   "name": "Esercizi_Lezione_6.ipynb",
   "provenance": []
  },
  "kernelspec": {
   "display_name": "Python 3",
   "language": "python",
   "name": "python3"
  },
  "language_info": {
   "codemirror_mode": {
    "name": "ipython",
    "version": 3
   },
   "file_extension": ".py",
   "mimetype": "text/x-python",
   "name": "python",
   "nbconvert_exporter": "python",
   "pygments_lexer": "ipython3",
   "version": "3.8.3"
  },
  "toc": {
   "base_numbering": 1,
   "nav_menu": {},
   "number_sections": true,
   "sideBar": true,
   "skip_h1_title": false,
   "title_cell": "Table of Contents",
   "title_sidebar": "Contents",
   "toc_cell": true,
   "toc_position": {
    "height": "646.88px",
    "left": "92px",
    "top": "111.14px",
    "width": "219.68px"
   },
   "toc_section_display": true,
   "toc_window_display": true
  }
 },
 "nbformat": 4,
 "nbformat_minor": 1
}
