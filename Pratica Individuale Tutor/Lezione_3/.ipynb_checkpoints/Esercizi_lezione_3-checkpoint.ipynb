{
 "cells": [
  {
   "cell_type": "markdown",
   "metadata": {
    "toc": true
   },
   "source": [
    "<h1>Table of Contents<span class=\"tocSkip\"></span></h1>\n",
    "<div class=\"toc\"><ul class=\"toc-item\"><li><span><a href=\"#Obiettivo:-confrontare-l'effetto-di-diversi-scaler-sui-dati-con-valori-anomali-¶\" data-toc-modified-id=\"Obiettivo:-confrontare-l'effetto-di-diversi-scaler-sui-dati-con-valori-anomali-¶-1\"><span class=\"toc-item-num\">1&nbsp;&nbsp;</span>Obiettivo: confrontare l'effetto di diversi scaler sui dati con valori anomali ¶</a></span><ul class=\"toc-item\"><li><ul class=\"toc-item\"><li><span><a href=\"#In-particolare-confronta-gli-effetti-dei-tre-scaler:-MinMaxScaler,-StandarScaler-e-RobustScaler-sul-dataset-'california_housing_dataset'-presente-nella-libreria-sklearn-(https://scikit-learn.org/stable/datasets/real_world.html#california-housing-dataset)\" data-toc-modified-id=\"In-particolare-confronta-gli-effetti-dei-tre-scaler:-MinMaxScaler,-StandarScaler-e-RobustScaler-sul-dataset-'california_housing_dataset'-presente-nella-libreria-sklearn-(https://scikit-learn.org/stable/datasets/real_world.html#california-housing-dataset)-1.0.1\"><span class=\"toc-item-num\">1.0.1&nbsp;&nbsp;</span>In particolare confronta gli effetti dei tre scaler: MinMaxScaler, StandarScaler e RobustScaler sul dataset 'california_housing_dataset' presente nella libreria sklearn (<a href=\"https://scikit-learn.org/stable/datasets/real_world.html#california-housing-dataset\" target=\"_blank\">https://scikit-learn.org/stable/datasets/real_world.html#california-housing-dataset</a>)</a></span><ul class=\"toc-item\"><li><span><a href=\"#Consiglio:-graficare-il-pre-e-post-scalatura-può-aiutarti-ad-osservare-meglio-come-cambiano-le-distribuzioni-;)\" data-toc-modified-id=\"Consiglio:-graficare-il-pre-e-post-scalatura-può-aiutarti-ad-osservare-meglio-come-cambiano-le-distribuzioni-;)-1.0.1.1\"><span class=\"toc-item-num\">1.0.1.1&nbsp;&nbsp;</span>Consiglio: graficare il pre e post scalatura può aiutarti ad osservare meglio come cambiano le distribuzioni ;)</a></span></li></ul></li></ul></li></ul></li></ul></div>"
   ]
  },
  {
   "cell_type": "markdown",
   "metadata": {},
   "source": [
    "# Obiettivo: confrontare l'effetto di diversi scaler sui dati con valori anomali ¶\n",
    "\n",
    "### In particolare confronta gli effetti dei tre scaler: MinMaxScaler, StandarScaler e RobustScaler sul dataset 'california_housing_dataset' presente nella libreria sklearn (https://scikit-learn.org/stable/datasets/real_world.html#california-housing-dataset)\n",
    "\n",
    "#### Consiglio: graficare il pre e post scalatura può aiutarti ad osservare meglio come cambiano le distribuzioni ;)"
   ]
  },
  {
   "cell_type": "code",
   "execution_count": 2,
   "metadata": {},
   "outputs": [],
   "source": [
    "import numpy as np\n",
    "\n",
    "import matplotlib as mpl\n",
    "from matplotlib import pyplot as plt\n",
    "from matplotlib import cm\n",
    "\n",
    "from sklearn.preprocessing import MinMaxScaler\n",
    "from sklearn.preprocessing import minmax_scale\n",
    "from sklearn.preprocessing import MaxAbsScaler\n",
    "from sklearn.preprocessing import StandardScaler\n",
    "from sklearn.preprocessing import RobustScaler\n",
    "\n",
    "#DATI\n",
    "from sklearn.datasets import fetch_california_housing\n",
    "\n"
   ]
  },
  {
   "cell_type": "code",
   "execution_count": null,
   "metadata": {},
   "outputs": [],
   "source": []
  }
 ],
 "metadata": {
  "kernelspec": {
   "display_name": "Python 3",
   "language": "python",
   "name": "python3"
  },
  "language_info": {
   "codemirror_mode": {
    "name": "ipython",
    "version": 3
   },
   "file_extension": ".py",
   "mimetype": "text/x-python",
   "name": "python",
   "nbconvert_exporter": "python",
   "pygments_lexer": "ipython3",
   "version": "3.8.3"
  },
  "toc": {
   "base_numbering": 1,
   "nav_menu": {},
   "number_sections": true,
   "sideBar": true,
   "skip_h1_title": false,
   "title_cell": "Table of Contents",
   "title_sidebar": "Contents",
   "toc_cell": true,
   "toc_position": {},
   "toc_section_display": true,
   "toc_window_display": true
  }
 },
 "nbformat": 4,
 "nbformat_minor": 1
}
